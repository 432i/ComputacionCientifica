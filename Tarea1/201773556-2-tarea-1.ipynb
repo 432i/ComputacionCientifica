{
 "cells": [
  {
   "cell_type": "markdown",
   "metadata": {
    "colab_type": "text",
    "id": "aBPGOpUM11V1"
   },
   "source": [
    "\n",
    "<center>\n",
    "    <h1> INF285/ILI285 Computación Científica </h1>\n",
    "    <h1> Tarea N°1, v1.00 </h1>\n",
    "    \n",
    "</center>\n",
    "\n",
    "<p>\n",
    "\n",
    "</p>"
   ]
  },
  {
   "cell_type": "markdown",
   "metadata": {
    "colab_type": "text",
    "id": "B7MCAVSDRk3l"
   },
   "source": [
    "## Instrucciones\n",
    "\n",
    "* La tarea es individual.\n",
    "* Las consultas sobre las tareas se deben realizar por medio de la plataforma Aula.\n",
    "* La tarea debe ser realizada en `Jupyter Notebook` (`Python3`).\n",
    "* Se evaluará la correcta utilización de librerias `NumPy`, `SciPy`, entre otras, así como la correcta implementación de algoritmos de forma vectorizada.\n",
    "*  **El archivo de entrega debe denominarse ROL-tarea-numero.ipynb**. _De no respetarse este formato existirá un descuento de **50 puntos**_\n",
    "* La fecha de entrega es el jueves 30 de Abril a las **18:00 hrs**.  Se aceptarán entregas hasta las 19:00 hrs sin descuento en caso de existir algun problema, posteriormente existirá un descuento lineal hasta las 20:00 hrs del mismo día.\n",
    "* Las tareas que sean entregadas antes del jueves a mediodía recibirán una bonificación de 10 puntos\n",
    "* Debe citar cualquier código ajeno utilizado (incluso si proviene de los Jupyter Notebooks del curso).\n",
    "\n",
    "\n"
   ]
  },
  {
   "cell_type": "markdown",
   "metadata": {
    "colab_type": "text",
    "id": "PNhvmtRq2Orx"
   },
   "source": [
    "## Introducción \n",
    "\n",
    "En esta primera tarea de INF/ILI-285, versión 2020-1, estudiaremos la importancia de los primeros temas estudiados en el curso, los cuales son: Representación de Punto Flotante, Pérdida de Significancia, Errores de Cancelación y Búsqueda de Ceros. El desarrollo de cada uno de esos temas se presenta en una serie de preguntas, donde ustedes deben ir decidiendo, pregunta a pregunta, como cada uno de los temas se aplica. En general, los temas no se analizan por separado, sino de manera acoplada. Es muy importante que cada uno de los problemas sea analizado teóricamente primero, para luego poner su conocimiento en acción. Cada problema puede ser desarrollado de diversas formas, sin embargo, es muy importante determinar al final si el camino elegido resuelve la pregunta presentada."
   ]
  },
  {
   "cell_type": "markdown",
   "metadata": {
    "colab_type": "text",
    "id": "lAtn1U0qRg2S"
   },
   "source": [
    "## Problemas"
   ]
  },
  {
   "cell_type": "markdown",
   "metadata": {
    "colab_type": "text",
    "id": "3znHUOxOUB0-"
   },
   "source": [
    "### 1. Simulador (50 ptos) \n",
    "\n",
    "Dada la familia de polinomios de grado 3 con la forma:\n",
    "\n",
    "\n",
    "\\begin{equation}\n",
    "f(x)=x^3 - A\\,x^2 + A\\,x - 1\n",
    "\\end{equation}\n",
    "\n",
    "\n",
    "Se pide implementar un algoritmo que reciba como parámetros el valor de $A$ (con $|A|>>1$) y la cantidad de bits que tiene en la mantisa un computador ficticio, el manejo del exponente debe considerarse de las misma forma que lo maneja _double precision_.\n",
    "Esta implementación debe calcular las raíces de $f$ sin perdida de significancia con la cantidad de bits disponibles para la mantisa.\n",
    "Para obtener las raíces de $f$ usted debe encontrar de forma algebraica sus raíces y luego proponer un algoritmo basado en las _fórmulas_ obtenidas.\n",
    "\n",
    "Considere que en ese computador ficticio cuenta con las operaciones matemáticas necesarias para obtener las raíces.  Considere el siguiente ejemplo:\n",
    "\n",
    "```python\n",
    "# Alg. Base\n",
    "a = 9819824.624837\n",
    "b = 148736.523476\n",
    "c = a+b\n",
    "\n",
    "# Alg. con Representación de Punto Flotante de 'bits_mant' bits en la mantisa.\n",
    "am = f_new_rep(9819824.624837,bits_mant) # Aproximar el input en la nueva representación.\n",
    "bm = f_new_rep(148736.523476,bits_mant) # Aproximar el input en la nueva representación.\n",
    "cm = f_new_rep(m,am+bm) # Aproximar el output de la suma y cada operación en la nueva representación.\n",
    "```\n"
   ]
  },
  {
   "cell_type": "markdown",
   "metadata": {},
   "source": [
    "A continuación se desarrolla la función *f_new_rep* la cual hace uso de distintas funciones de apoyo para transformar el número a binario con la mantisa entregada y luego volver a pasarlo a decimal con esa mantisa:"
   ]
  },
  {
   "cell_type": "code",
   "execution_count": 2,
   "metadata": {},
   "outputs": [],
   "source": [
    "import numpy as np\n",
    "import matplotlib.pyplot as plt\n",
    "import math\n",
    "import scipy"
   ]
  },
  {
   "cell_type": "code",
   "execution_count": 140,
   "metadata": {
    "colab": {},
    "colab_type": "code",
    "id": "2efm5YD2UBGD",
    "scrolled": true
   },
   "outputs": [],
   "source": [
    "\"\"\"\n",
    "input\n",
    "x         : (double) valor a evaluar\n",
    "bits_mant : (int) cantidad de bits de la mantisa\n",
    "output\n",
    "eval      : (double) resultado obtenido\n",
    "\"\"\"\n",
    "\n",
    "#convierte la parte entera del numero recibido a binario\n",
    "def convertirEntera(numero):\n",
    "    numero=int(numero)\n",
    "    flag=True\n",
    "    binario=\"\"\n",
    "    while flag:\n",
    "        R=numero%2\n",
    "        numero=int(numero/2)\n",
    "        if(R==1):\n",
    "            binario=binario+\"1\"\n",
    "        else:\n",
    "            binario=binario+\"0\"\n",
    "        if numero==0:\n",
    "            flag=False\n",
    "    #print(binario[::-1])\n",
    "    return binario[::-1]\n",
    "\n",
    "#convierte la parte decimal del numero recibido a binario\n",
    "def convertirDecimal(numero):\n",
    "    mantisa=0\n",
    "    binario=\"\"\n",
    "    numero=float(\"0.\"+numero)\n",
    "    repetidos=[]\n",
    "    flag=True\n",
    "    while flag:\n",
    "        numero=numero*2\n",
    "        if numero>=1:\n",
    "            numero=numero-1\n",
    "            binario=\"1\"+binario\n",
    "            if numero in repetidos:\n",
    "                flag=False\n",
    "            repetidos.append(numero)\n",
    "        else:\n",
    "            if numero in repetidos:\n",
    "                flag=False\n",
    "            repetidos.append(numero)\n",
    "            binario=\"0\"+binario\n",
    "\n",
    "    #print(binario[::-1])\n",
    "    return binario[::-1]\n",
    "#recibe un binario y le suma 1 \n",
    "def suma(bin):\n",
    "    largoBin=len(bin)\n",
    "    resultado=\"\"\n",
    "    pos=0\n",
    "    if bin[-1]==\"0\":\n",
    "        #print(bin)\n",
    "        resultado=bin[0:largoBin-1]+\"1\"\n",
    "        #print(resultado)\n",
    "        return resultado\n",
    "    else:#como el ultimo es 1 hay que sumarle 1 por lo que queda 0 y genera carry\n",
    "        bin=bin[::-1]\n",
    "        for bit in bin:\n",
    "            if bit == \"1\":\n",
    "                pos+=1\n",
    "                resultado=resultado+\"0\"\n",
    "            else:\n",
    "                resultado=resultado+\"1\"\n",
    "                resultado=resultado+bin[pos+1:]\n",
    "                return resultado[::-1]\n",
    "#recibe un numero para pasarlo a decimal, si es 0 o 1 sirve para diferenciar si es pasar la parte entera o decimal\n",
    "def pasarDecimal(numero,estado):\n",
    "    if estado==0:\n",
    "        resultado=0\n",
    "        i=1\n",
    "        for bit in numero:\n",
    "            resultado=resultado+(2**(-1*i))*int(bit)\n",
    "            i+=1\n",
    "        return resultado\n",
    "    else:  \n",
    "        resultado=0\n",
    "        i=0\n",
    "        for bit in numero[::-1]:\n",
    "            resultado=resultado+(2**(i))*int(bit)\n",
    "            i+=1\n",
    "        return resultado\n",
    "#funcion que recibe un float y devuelve un float con la mantisa entregada\n",
    "def f_new_rep(x,bits_mant):\n",
    "    if x==0.0:\n",
    "        return 0.0\n",
    "  # Algoritmo de representación de punto flotante modificada.\n",
    "    signo=0\n",
    "    exponente=0\n",
    "    if x<0:\n",
    "        signo=1\n",
    "    x=format(x,'.52f')\n",
    "    a=str(x)\n",
    "    l=a.split(\".\")\n",
    "    binarioEntero=str(abs(int(convertirEntera(l[0]))))\n",
    "                                            #esto se hace porque cuando es periodico el numero puede quedar muy corto\n",
    "    binarioDecimal=convertirDecimal(l[1])+\"000000000000000000000000000000000000000000000000000000000000000000000000000\"\n",
    "    nuevaRepresentacion=\"\"\n",
    "    \n",
    "    if binarioEntero == \"0\":\n",
    "        exponente=(binarioDecimal.find(\"1\")+1)*-1\n",
    "        nuevaRepresentacion=\"1.\"+binarioDecimal[binarioDecimal.find(\"1\")+1:]\n",
    "\n",
    "        if nuevaRepresentacion[(bits_mant+1)+1]==\"0\": #si el ultimo bit +1 que considero es 0\n",
    "            nuevaRepresentacion=nuevaRepresentacion[0:bits_mant+2]\n",
    "            #print(\"final0: \"+nuevaRepresentacion)\n",
    "        else: #si el ultimo bit q considero es 1\n",
    " \n",
    "            if nuevaRepresentacion[bits_mant+2:].find(\"1\") != -1:    #si despues del ultimo bit hay algun 1 \n",
    "                                                                     #entonces redondeamos hacia arriba\n",
    "\n",
    "                nuevaRepresentacion=nuevaRepresentacion[0:bits_mant+2]\n",
    "     \n",
    "                nuevaRepresentacion=\"1.\"+suma(nuevaRepresentacion[2:])\n",
    "    \n",
    "            else: #se suma 1 al bit 52 solo si este bit es 1\n",
    "\n",
    "                if nuevaRepresentacion[bits_mant+1]==\"1\":\n",
    "                    nuevaRepresentacion=\"1.\"+suma(nuevaRepresentacion[2:])\n",
    "                    \n",
    "    else: \n",
    "        exponente=len(binarioEntero)-1\n",
    "        nuevaRepresentacion=\"1.\"+binarioEntero[1:]+binarioDecimal\n",
    "   \n",
    "        \n",
    "        #casos mantisa\n",
    "        if nuevaRepresentacion[(bits_mant+1)+1]==\"0\": #si el ultimo bit +1 que considero es 0\n",
    "            nuevaRepresentacion=nuevaRepresentacion[0:bits_mant+2]\n",
    "           \n",
    "        else: #si el ultimo bit q considero es 1\n",
    " \n",
    "            if nuevaRepresentacion[bits_mant+2:].find(\"1\") != -1:   #si despues del ultimo bit hay algun 1 \n",
    "                                                                    #entonces redondeamos hacia arriba\n",
    "               \n",
    "                nuevaRepresentacion=nuevaRepresentacion[0:bits_mant+2]\n",
    "             \n",
    "                nuevaRepresentacion=\"1.\"+suma(nuevaRepresentacion[2:])\n",
    "                \n",
    "                \n",
    "            else: #se suma 1 al bit 52 solo si este bit es 1\n",
    "                if nuevaRepresentacion[bits_mant+1]==\"1\":\n",
    "                    nuevaRepresentacion=\"1.\"+suma(nuevaRepresentacion[2:])\n",
    "    \n",
    "    nuevoBin=\"\"\n",
    "    if exponente>0:\n",
    "        \n",
    "        j=exponente-(len(nuevaRepresentacion)-2) #parar correr el exponente\n",
    "        #print(j)\n",
    "        if j>0:\n",
    "            i=0\n",
    "            while(i<j):\n",
    "                nuevaRepresentacion=nuevaRepresentacion+\"0\"\n",
    "                i=i+1\n",
    "\n",
    "        nuevoBin=\"1\"+nuevaRepresentacion[2:exponente+2]+\".\"+nuevaRepresentacion[exponente+2:]\n",
    "        if nuevoBin[-1]==\".\":\n",
    "            nuevoBin=nuevoBin+\"0\"\n",
    "        #print(nuevoBin)\n",
    "        l=nuevoBin.split(\".\")\n",
    "        parteDecimal=pasarDecimal(l[1],0)\n",
    "        parteEntera=pasarDecimal(l[0],1)\n",
    "        \n",
    "    else:\n",
    "        i=1\n",
    "        nuevoBin=\"0.\"\n",
    "        while(i<exponente*-1):\n",
    "            nuevoBin=nuevoBin+\"0\"\n",
    "            i+=1\n",
    "        nuevoBin=nuevoBin+\"1\"+nuevaRepresentacion[2:]\n",
    "        l=nuevoBin.split(\".\")\n",
    "  \n",
    "        parteDecimal=pasarDecimal(l[1],0) # 0 es para avisarle a la func q es la parte decimal\n",
    "        parteEntera=pasarDecimal(l[0],1)\n",
    "    result=parteEntera+parteDecimal\n",
    "\n",
    "    if signo==0:\n",
    "        return float(result)\n",
    "    else:\n",
    "        return float(result*-1)\n",
    "#Hubo demasiado esfuerzo en esta pregunta porfavor piedad u.u\n"
   ]
  },
  {
   "cell_type": "markdown",
   "metadata": {},
   "source": [
    "Podemos observar que x=1 es una raíz del polinomio, por lo que podemos utilizar una división de polinomios para encontrar las demás raíces:\n",
    "\n",
    "\n",
    "<div align=\"center\"> $x^3-Ax^2+Ax-1  : (x-1)  =    x^2+(1-A)x+1$ <div/>"
   ]
  },
  {
   "cell_type": "markdown",
   "metadata": {},
   "source": [
    "Encontramos que el polinomio $x^2+(1-A)x+1$ nos sirve para encontrar 2 de las raices restantes del polinomio original ya que tenemos la raiz x=1."
   ]
  },
  {
   "cell_type": "markdown",
   "metadata": {},
   "source": [
    "Para resolver la función cuadrática se utilizará la fórmula cuadrática tradicional:\n",
    "\n",
    "<div align=\"center\">$\\frac{-b+-\\sqrt{b^2-4ac}}{2a}$<div/>"
   ]
  },
  {
   "cell_type": "markdown",
   "metadata": {},
   "source": [
    "\n",
    "Sin embargo, para evitar pérdida de significancia hay que evitar la operación de resta en la fórmula. Para evitar restas es necesario ponerse en los distintos casos de b (1-A), ya que como podemos observar a=1, b=1-A y c=1, lo cual nos indica que para que no existan restas depende del signo que adopte A. De esta forma, en algunos casos se podrá aplicar la fórmula cuadrática tradicional directamente y en otros se tendrá que trabajar algebraicamente de la siguiente forma para evitar las restas.\n",
    "    "
   ]
  },
  {
   "cell_type": "markdown",
   "metadata": {},
   "source": [
    "Expondremos un caso que es cuando la fórmula adopta la suma (el caso es homólogo en la resta):\n",
    "<div align=\"center\">$\\frac{-b+\\sqrt{b^2-4ac}}{2a}  $<div/>\n",
    "    \n",
    "Racionalizando:   \n",
    "<div align=\"center\">$\\frac{-b+\\sqrt{b^2-4ac}}{2a} \\frac{b+\\sqrt{b^2-4ac}}{b+\\sqrt{b^2-4ac}} $<div/>\n",
    "\n",
    "Finalmente:\n",
    "<div align=\"center\">$\\frac{-2c}{b+\\sqrt{b^2-4ac}}  $<div/>"
   ]
  },
  {
   "cell_type": "code",
   "execution_count": 163,
   "metadata": {},
   "outputs": [],
   "source": [
    "#recibe el número A y la mantisa y regresa las raices de la función para ese A\n",
    "def f_find_roots(A,bits_mant):\n",
    "    # Algoritmo para encontrar raíces de f(x).\n",
    "    #notar que a=1, b=1-A y c=1\n",
    "    #por lo que -b=A-1\n",
    "    AmenosUno=f_new_rep(A-1,bits_mant)\n",
    "    AmenosUnoCuadrao=f_new_rep(AmenosUno*AmenosUno,bits_mant)\n",
    "    AmenosUnoCuadraoMenosCuatro= f_new_rep(AmenosUnoCuadrao-4,bits_mant)\n",
    "    raiz=f_new_rep((AmenosUnoCuadraoMenosCuatro)**0.5,bits_mant)\n",
    "    ######################## bien: separar casos para evitar restas\n",
    "    if AmenosUno<0: #si a menos uno es negativo\n",
    "        AmenosUno=AmenosUno*-1\n",
    "        numeradorx1=f_new_rep( AmenosUno+raiz ,bits_mant)\n",
    "        x1=f_new_rep( (numeradorx1) / (2) ,bits_mant)*-1\n",
    "        denominadorx2=f_new_rep((AmenosUno+raiz) ,bits_mant)\n",
    "        x2=f_new_rep((-2)/(denominadorx2),bits_mant)\n",
    "        x_roots=[]\n",
    "        x_roots.append(1)\n",
    "        x_roots.append(x1)\n",
    "        x_roots.append(x2)\n",
    "        return x_roots\n",
    "    else:\n",
    "        numeradorx2=f_new_rep(AmenosUno+raiz,bits_mant)\n",
    "        x2=f_new_rep(numeradorx2/2,bits_mant)\n",
    "        denominadorx1=f_new_rep(AmenosUno+raiz,bits_mant)\n",
    "        x1=f_new_rep(2/denominadorx1,bits_mant)\n",
    "        x_roots=[]\n",
    "        x_roots.append(1)\n",
    "        x_roots.append(x1)\n",
    "        x_roots.append(x2)\n",
    "        return x_roots\n",
    "    "
   ]
  },
  {
   "cell_type": "code",
   "execution_count": 164,
   "metadata": {},
   "outputs": [
    {
     "name": "stdout",
     "output_type": "stream",
     "text": [
      "FIND ROOTS:  [1, 2.0012259483337402e-05, 49984.0]\n"
     ]
    }
   ],
   "source": [
    "print(\"FIND ROOTS: \",f_find_roots(50000.125, 10) )"
   ]
  },
  {
   "cell_type": "markdown",
   "metadata": {
    "colab_type": "text",
    "id": "Nw-jJfD-VPMa"
   },
   "source": [
    "### Polinomios de Legendre (50 puntos)\n",
    "Dada la función compuesta $f$\n",
    "\\begin{equation}\n",
    "f_{n,m}(x) = L_n(C_m(x)),\n",
    "\\end{equation}\n",
    "donde $L_n$ es conocido como el polinomio de Legendre de grado $n$ definido de la siguiente forma:\n",
    "\\begin{equation}\n",
    "L_{n}(x)=\\frac{1}{2^{n}} \\sum_{k=0}^{n}\\left(\\begin{array}{l}\n",
    "n \\\\\n",
    "k\n",
    "\\end{array}\\right)^{2}(x-1)^{n-k}(x+1)^{k},\n",
    "\\end{equation}\n",
    "y $C_m$ es el polinomio de Chebyshev\n",
    "\\begin{equation}\n",
    "C_m(x) = \\cos(m \\cdot \\arccos(x)).\n",
    "\\end{equation}\n",
    "\n",
    "Utilizando el método de Bisección y Punto fijo se pide obtener la raíz de $f$ más cercana a $0.5$ dado un valor de $m$ y $n$\n",
    "\n",
    "\n",
    "\n",
    "*Hint: Las raíces de Legendre son conocidas*\n",
    "\n"
   ]
  },
  {
   "cell_type": "code",
   "execution_count": 3,
   "metadata": {
    "colab": {},
    "colab_type": "code",
    "id": "x0rfc_-6JTrG"
   },
   "outputs": [],
   "source": [
    "\"\"\"\n",
    "input\n",
    "n: (int) grado del polinomio de Legendre\n",
    "m: (int) grado del polinomio de Chebyshev\n",
    "tol: (double) tolerancia para la detención del algoritmo\n",
    "output\n",
    "root: (double) raiz obtenida\n",
    "\"\"\"\n",
    "def f_Biseccion(n, m, tol):\n",
    "    ##\n",
    "    return root\n",
    "\n",
    "def f_FPI(n, m, tol):\n",
    "    return root"
   ]
  },
  {
   "cell_type": "markdown",
   "metadata": {
    "colab_type": "text",
    "id": "sv7nBimeVOT2"
   },
   "source": [
    "###  Determinantes (20 puntos)"
   ]
  },
  {
   "cell_type": "markdown",
   "metadata": {
    "colab_type": "text",
    "id": "fZPW_hUvQTW_"
   },
   "source": [
    "Dada una matriz de dimensiones $ n \\times n$ de la forma:\n",
    "\\begin{equation}\n",
    "A\n",
    "=\n",
    "\\begin{pmatrix}\n",
    "a_{1,1} & a_{1,2}  & \\dots & a_{1,n} \\\\\n",
    "a_{2,1} & a_{2,2}  & \\dots & a_{2,n} \\\\\n",
    "\\vdots &  \\vdots   & \\ddots & \\vdots \\\\\n",
    "a_{n,1} & a_{n,2}  & \\dots & a_{n,n}\n",
    "\\end{pmatrix}\n",
    "=\n",
    "\\begin{pmatrix}\n",
    "\\mathbf{r}_1 \\\\\n",
    "\\mathbf{r}_2 \\\\\n",
    "\\vdots \\\\\n",
    "\\mathbf{r}_n \\\\\n",
    "\\end{pmatrix},\n",
    "\\end{equation}\n",
    "donde $\\mathbf{r}_k$ representa la $k$-ésima fila de la matriz $A$.\n",
    "Considere la siguiente matriz $C_{i,j}(\\alpha)$,\n",
    "\\begin{equation}\n",
    "C_{i,j}(\\alpha)\n",
    "=\n",
    "\\begin{pmatrix}\n",
    "\\mathbf{r}_1 \\\\\n",
    "\\vdots \\\\\n",
    "\\mathbf{r}_i\\,(1-\\alpha)+\\mathbf{r}_j\\,\\alpha \\\\\n",
    "\\vdots \\\\\n",
    "\\mathbf{r}_j\\,(1-\\alpha)+\\mathbf{r}_i\\,\\alpha \\\\\n",
    "\\vdots \\\\\n",
    "\\mathbf{r}_n \\\\\n",
    "\\end{pmatrix},\n",
    "\\end{equation}\n",
    "de lo cual sabemos que $C_{i,j}(0)=A$ y que $C_{i,j}(1)$ es la matriz $A$ donde se intercambiaron las filas $i$ y $j$, es decir:\n",
    "\\begin{equation}\n",
    "C_{i,j}(1)\n",
    "=\n",
    "\\begin{pmatrix}\n",
    "\\mathbf{r}_1 \\\\\n",
    "\\vdots \\\\\n",
    "\\mathbf{r}_j \\\\\n",
    "\\vdots \\\\\n",
    "\\mathbf{r}_i \\\\\n",
    "\\vdots \\\\\n",
    "\\mathbf{r}_n \\\\\n",
    "\\end{pmatrix}.\n",
    "\\end{equation}\n",
    "De las relaciones anteriores podemos concluir que el determinante de la matriz $A$, denominado $D=\\det(A)$, es igual al determinante de $C_{i,j}(0)$, es decir $\\det(C_{i,j}(0))=\\det(A)=D$.\n",
    "Por el otro lado, el determinante de $C_{i,j}(1)$ es $-D$, dado que es el intercambio de las filas $i$ y $j$ de la matriz $A$.\n",
    "Por lo cual podemos concluir que $-D\\leq \\det(C_{i,j}(\\alpha))\\leq D$.\n",
    "\n",
    "Utilizando el método de Bisección debe encontrar el valor de $\\alpha$ con $p$ decimales de precisión que permitan que, dado los índices de las filas $i$, $j$, y $i\\neq j$, el determinante de la matriz sea igual a $d$, donde $d\\in[-D,D]$. \n",
    "\n",
    "Para esto se debe implementar una función que reciba la matriz $A$, las filas $i$ y $j$, y $p$; y retorne $\\widehat{\\alpha}$ tal que $\\det(C_{i,j}(\\widehat{\\alpha}))=d$.\n"
   ]
  },
  {
   "cell_type": "markdown",
   "metadata": {},
   "source": [
    "La idea es aplicar bisección en el intervalo 0 y 1 e ir variando los valores de acuerdo al valor de los determinantes que cambiarán segun el alfa evaluado:"
   ]
  },
  {
   "cell_type": "code",
   "execution_count": 16,
   "metadata": {
    "colab": {},
    "colab_type": "code",
    "id": "ZewzBMC0WevO"
   },
   "outputs": [],
   "source": [
    "\"\"\"\n",
    "input\n",
    "A: (array n x n) matriz\n",
    "i: (int) índice de la fila \"i\".\n",
    "j: (int) índice de la fila \"j\".\n",
    "p: (int) cantidad de decimales de precision \n",
    "d: (double) valor requerido del determinante de $C_{i,j}(\\alpha)$, i.e. $\\det(C_{i,j}(\\widehat{\\alpha}))=d$.\n",
    "output\n",
    "alpha_hat: (double) alpha_hat tal que det(C_{i,j}(alpha_hat))=d.\n",
    "\"\"\"\n",
    "def find_alpha_hat(A,i,j,p,d):\n",
    "    # Algoritmo a desarrollar, note que usted debe definir el intervalo a utilizar en el método de la bisección.\n",
    "    a=0\n",
    "    b=1\n",
    "    cont=0\n",
    "    n=np.log2(1/(0.5*(10**-p)))-1\n",
    "    detA=d-np.linalg.det(A)\n",
    "    detB=-detA\n",
    "    f_a=d-detA\n",
    "    f_b=d+detB\n",
    "    #caso borde\n",
    "    if abs(d)>=abs(detA):\n",
    "        if np.sign(d*detA)>0:\n",
    "             return 0 \n",
    "        else:\n",
    "            return 1\n",
    "    while(cont<n):\n",
    "        #print(cont)\n",
    "        #print(n)\n",
    "        alfa=(a+b)/2\n",
    "        C = np.copy(A)\n",
    "        #generamos la matriz C donde hay que reemplazar las filas r_i y r_j\n",
    "        fila_i = np.copy(C[i])\n",
    "        fila_j = np.copy(C[j])\n",
    "        C[i]= fila_j*(alfa)+fila_i*(1-alfa) #reemplazamos\n",
    "        C[j]= fila_i*(alfa)+fila_j*(1-alfa)\n",
    "        f_alfa = d - np.linalg.det(C)\n",
    "        if f_alfa < 0.5*(10**-p):\n",
    "            alpha_hat=alfa\n",
    "            return round(alpha_hat)\n",
    "        if f_alfa*f_a<0:\n",
    "            b=alfa\n",
    "            f_b=f_alfa\n",
    "        else:\n",
    "            a=alfa\n",
    "            f_a=f_alfa\n",
    "        cont+=1\n",
    "    alpha_hat=alfa        \n",
    "    return round(alpha_hat)\n"
   ]
  },
  {
   "cell_type": "code",
   "execution_count": 19,
   "metadata": {},
   "outputs": [
    {
     "data": {
      "text/plain": [
       "0"
      ]
     },
     "execution_count": 19,
     "metadata": {},
     "output_type": "execute_result"
    }
   ],
   "source": [
    "A = np.array([[25,100,100],[20,50,20],[40,40,40]])\n",
    "B = np.array([[2,1,3],[2,5,1],[4,1,10]])\n",
    "C = np.array([[25,100,10.0,30],[20,50,20,-14],[40,40,40,100],[1,-1,1,-1]])\n",
    "D = np.array([[25,100,10.0,30,-100],[20,50,20,-14,-20],[40,40,40,100,100],[1,-1,1,-1,-2],[1,2,3,4,5]])\n",
    "\n",
    "d_values=[9,46599,-8319,89000] # B, C, D, A respectivamente\n",
    "#m=alguna de las cuatro matrices\n",
    "p=10\n",
    "i=0\n",
    "j=A.shape[1]-1\n",
    "#Se intercambiaban la primera fila con la ultima\n",
    "find_alpha_hat(D,i,j,p,d_values[2])"
   ]
  },
  {
   "cell_type": "markdown",
   "metadata": {
    "colab_type": "text",
    "id": "gVOkWN_zrvR9"
   },
   "source": [
    "# Referencias\n",
    "\n",
    "Apuntes y jupyters del curso (nada textual)"
   ]
  },
  {
   "cell_type": "code",
   "execution_count": null,
   "metadata": {},
   "outputs": [],
   "source": []
  }
 ],
 "metadata": {
  "colab": {
   "collapsed_sections": [],
   "name": "Tarea1-CC.ipynb",
   "provenance": [],
   "toc_visible": true
  },
  "kernelspec": {
   "display_name": "Python 3",
   "language": "python",
   "name": "python3"
  },
  "language_info": {
   "codemirror_mode": {
    "name": "ipython",
    "version": 3
   },
   "file_extension": ".py",
   "mimetype": "text/x-python",
   "name": "python",
   "nbconvert_exporter": "python",
   "pygments_lexer": "ipython3",
   "version": "3.8.2"
  }
 },
 "nbformat": 4,
 "nbformat_minor": 1
}
