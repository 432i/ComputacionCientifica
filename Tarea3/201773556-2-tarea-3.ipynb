{
 "cells": [
  {
   "cell_type": "code",
   "execution_count": 1,
   "metadata": {},
   "outputs": [],
   "source": [
    "import numpy as np\n",
    "import sympy as sp\n",
    "from PIL import Image\n",
    "from scipy import interpolate\n",
    "import matplotlib.pyplot as plt\n",
    "import time\n",
    "from skimage.metrics import structural_similarity"
   ]
  },
  {
   "cell_type": "markdown",
   "metadata": {},
   "source": [
    "# Tarea 3:Interpolación Bicúbica"
   ]
  },
  {
   "cell_type": "markdown",
   "metadata": {},
   "source": [
    "## Instrucciones\n",
    "\n",
    "* La tarea es individual.\n",
    "* Las consultas sobre las tareas se deben realizar por medio de la plataforma Aula.\n",
    "* La tarea debe ser realizada en `Jupyter Notebook` (`Python3`).\n",
    "* Se evaluará la correcta utilización de librerias `NumPy`, `SciPy`, entre otras, así como la correcta implementación de algoritmos de forma vectorizada.\n",
    "*  **El archivo de entrega debe denominarse ROL-tarea-numero.ipynb**. _De no respetarse este formato existirá un descuento de **50 puntos**_\n",
    "* La fecha de entrega es el viernes 24 de Julio a las **18:00 hrs**.  Se aceptarán entregas hasta las 19:00 hrs sin descuento en caso de existir algun problema, posteriormente existirá un descuento lineal hasta las 20:00 hrs del mismo día.\n",
    "* Las tareas que sean entregadas antes del jueves a mediodía recibirán una bonificación de 10 puntos\n",
    "* Debe citar cualquier código ajeno utilizado (incluso si proviene de los Jupyter Notebooks del curso).\n"
   ]
  },
  {
   "cell_type": "markdown",
   "metadata": {},
   "source": [
    "## Introducción"
   ]
  },
  {
   "cell_type": "markdown",
   "metadata": {},
   "source": [
    "En la siguiente tarea estudiaremos un método de interpolación denominado **Interpolación Bicúbica**, utilizada frecuentemente sobre imágenes. Aplicaremos el método para aumentar la resolución de una imagen intentando preservar las propiedades de la versión original."
   ]
  },
  {
   "cell_type": "markdown",
   "metadata": {},
   "source": [
    "## Contexto"
   ]
  },
  {
   "cell_type": "markdown",
   "metadata": {},
   "source": [
    "Supongamos que usted conoce $f$ y las derivadas $f_x$, $f_y$ y $f_{xy}$ dentro de las coordenadas $(0,0),(0,1),(1,0)$ y $(1,1)$ de un cuadrado unitario. La superficie que interpola estos 4 puntos es:\n",
    "\n",
    "$$\n",
    "p(x,y) = \\sum\\limits_{i=0}^3 \\sum_{j=0}^3 a_{ij} x^i y^j.\n",
    "$$\n",
    "\n",
    "Como se puede observar el problema de interpolación se resume en determinar los 16 coeficientes $a_{ij}$ y para esto se genera un total de $16$ ecuaciones utilizando los valores conocidos de $f$,$f_x$,$f_y$ y $f_{xy}$. Por ejemplo, las primeras $4$ ecuaciones son:\n",
    "\n",
    "$$\n",
    "\\begin{aligned}\n",
    "f(0,0)&=p(0,0)=a_{00},\\\\\n",
    "f(1,0)&=p(1,0)=a_{00}+a_{10}+a_{20}+a_{30},\\\\\n",
    "f(0,1)&=p(0,1)=a_{00}+a_{01}+a_{02}+a_{03},\\\\\n",
    "f(1,1)&=p(1,1)=\\textstyle \\sum \\limits _{i=0}^{3}\\sum \\limits _{j=0}^{3}a_{ij}.\n",
    "\\end{aligned}\n",
    "$$\n",
    "\n",
    "Para las $12$ ecuaciones restantes se debe utilizar:\n",
    "\n",
    "$$\n",
    "\\begin{aligned}\n",
    "f_{x}(x,y)&=p_{x}(x,y)=\\textstyle \\sum \\limits _{i=1}^{3}\\sum \\limits _{j=0}^{3}a_{ij}ix^{i-1}y^{j},\\\\\n",
    "f_{y}(x,y)&=p_{y}(x,y)=\\textstyle \\sum \\limits _{i=0}^{3}\\sum \\limits _{j=1}^{3}a_{ij}x^{i}jy^{j-1},\\\\\n",
    "f_{xy}(x,y)&=p_{xy}(x,y)=\\textstyle \\sum \\limits _{i=1}^{3}\\sum \\limits _{j=1}^{3}a_{ij}ix^{i-1}jy^{j-1}.\n",
    "\\end{aligned}\n",
    "$$\n",
    "\n",
    "\n",
    "Una vez planteadas las ecuaciones, los coeficientes se pueden obtener al resolver el problema $A\\alpha=x$, donde $\\alpha=\\left[\\begin{smallmatrix}a_{00}&a_{10}&a_{20}&a_{30}&a_{01}&a_{11}&a_{21}&a_{31}&a_{02}&a_{12}&a_{22}&a_{32}&a_{03}&a_{13}&a_{23}&a_{33}\\end{smallmatrix}\\right]^T$ y ${\\displaystyle x=\\left[{\\begin{smallmatrix}f(0,0)&f(1,0)&f(0,1)&f(1,1)&f_{x}(0,0)&f_{x}(1,0)&f_{x}(0,1)&f_{x}(1,1)&f_{y}(0,0)&f_{y}(1,0)&f_{y}(0,1)&f_{y}(1,1)&f_{xy}(0,0)&f_{xy}(1,0)&f_{xy}(0,1)&f_{xy}(1,1)\\end{smallmatrix}}\\right]^{T}}$.\n"
   ]
  },
  {
   "cell_type": "markdown",
   "metadata": {},
   "source": [
    "En un contexto más aplicado, podemos hacer uso de la interpolación bicúbica para aumentar la resolución de una imagen. Supongamos que tenemos la siguiente imagen de tamaño $5 \\times 5$:"
   ]
  },
  {
   "cell_type": "markdown",
   "metadata": {},
   "source": [
    "<img src=\"img1.png\" width=\"20%\"/>"
   ]
  },
  {
   "cell_type": "markdown",
   "metadata": {},
   "source": [
    "Podemos ir tomando segmentos de la imagen de tamaño $2 \\times 2$ de la siguiente forma:"
   ]
  },
  {
   "cell_type": "markdown",
   "metadata": {},
   "source": [
    "<img src=\"img2.png\" width=\"50%\"/>"
   ]
  },
  {
   "cell_type": "markdown",
   "metadata": {},
   "source": [
    "Por cada segmento podemos generar una superficie interpoladora mediante el algoritmo de interpolación cubica. Para el ejemplo anterior estariamos generando $16$ superficies interpoladoras distintas. La idea es hacer uso de estas superficies para estimar los valores de los pixeles correspondientes a una imagen más grande. Por ejemplo, la imagen $5 \\times 5$ la podemos convertir a una imagen de $9 \\times 9$ agregando un pixel entre cada par de pixeles originales además de uno en el centro para que no quede un hueco."
   ]
  },
  {
   "cell_type": "markdown",
   "metadata": {},
   "source": [
    "<img src=\"img3.png\" width=\"50%\"/>"
   ]
  },
  {
   "cell_type": "markdown",
   "metadata": {},
   "source": [
    "Aca los pixeles verdes son los mismos que la imagen original y los azules son obtenidos de evaluar cada superficie interpoladora. Notar que existen pixeles azules que se pueden obtener a partir de dos superficies interpoladoras distintas, en esos casos se puede promediar el valor de los pixeles o simplemente dejar uno de los dos. \n",
    "\n",
    "Para trabajar con la interpolación bicubica necesitamos conocer los valores de $f_x$, $f_y$ y $f_{xy}$. En el caso de las imagenes solo tenemos acceso al valor de cada pixel por lo que deberemos estimar cual es el valor de estos. Para estimar $f_x$ haremos lo siguiente:"
   ]
  },
  {
   "cell_type": "markdown",
   "metadata": {},
   "source": [
    "Para estimar el valor de $f_x$ en cada pixel haremos una interpolación con los algoritmos conocidos, usando tres pixels en dirección de las filas, luego derivaremos el polinomio obtenido y finalmente evaluaremos en la posición de interes. La misma idea aplica para $f_y$ solo que ahora interpolaremos en dirección de las columnas."
   ]
  },
  {
   "cell_type": "markdown",
   "metadata": {},
   "source": [
    "<img src=\"img5.png\" width=\"60%\"/>"
   ]
  },
  {
   "cell_type": "markdown",
   "metadata": {},
   "source": [
    "Por ejemplo si queremos obtener el valor de $f_x$ en la posición $(0,0)$ (imagen de la izquierda) entonces haremos una interpolación de Lagrange utilizando los pixeles $(0,0),(0,1)$ y $(0,2)$. Derivaremos el polinomio interpolador y evaluaremos en $(0,0)$. Por otro lado si queremos obtener el valor de $f_y$ en la posición $(0,0)$ (imagen de la derecha) entonces interpolaremos los pixeles $(0,0),(1,0)$ y $(2,0)$. Luego derivaremos el polinomio interpolador y evaluaremos en $(0,0)$."
   ]
  },
  {
   "cell_type": "markdown",
   "metadata": {},
   "source": [
    "Para obtener $f_{xy}$ seguiremos la idea anterior. Solo que esta vez se utilizaran los valores de $f_y$ y se interpolaran estos en dirección de las filas."
   ]
  },
  {
   "cell_type": "markdown",
   "metadata": {},
   "source": [
    "# Preguntas"
   ]
  },
  {
   "cell_type": "code",
   "execution_count": 2,
   "metadata": {},
   "outputs": [
    {
     "data": {
      "image/png": "[encoded data removed]",
      "text/plain": [
       "<Figure size 432x288 with 1 Axes>"
      ]
     },
     "metadata": {
      "needs_background": "light"
     },
     "output_type": "display_data"
    }
   ],
   "source": [
    "#Codigo para abrir y visualizar imágenes\n",
    "img = Image.open('imagenes_prueba/gradient.png')\n",
    "array=np.array(img)\n",
    "imgplot = plt.imshow(array)\n",
    "plt.show()"
   ]
  },
  {
   "cell_type": "markdown",
   "metadata": {},
   "source": [
    "## 1. Interpolación bicubica"
   ]
  },
  {
   "cell_type": "markdown",
   "metadata": {},
   "source": [
    "### 1.1  Obtener derivadas (30 puntos)\n",
    "\n",
    "Implemente la función `derivativeValues` que reciba como input un arreglo con valores, el método de interpolación y si es que se considera el uso de  los puntos de chebyshev . La función debe retornar un arreglo de igual dimensión con los valores de las derivadas de los puntos obtenidas\n",
    "\n",
    "Los métodos de interpolación serán representados por los siguientes valores\n",
    "\n",
    "* Interpolación de lagrange: `'lagrange'`\n",
    "* Diferencias divididas de Newton: `'newton'`\n",
    "* Spline cubica: `'spline3'`\n"
   ]
  },
  {
   "cell_type": "code",
   "execution_count": 3,
   "metadata": {},
   "outputs": [],
   "source": [
    "\n",
    "#Código extraído del repositorio del profesor Torres\n",
    "def Divided_Differences(x, y):\n",
    "    dd = np.array([y])\n",
    "    for i in range(len(x)-1):\n",
    "        ddi = []\n",
    "        for a in range(len(x)-i-1):\n",
    "            ddi.append((dd[i][a+1]-dd[i][a])/(x[a+i+1]-x[a]))\n",
    "        ddi = np.append(ddi,np.full((len(x)-len(ddi),),0.0))\n",
    "        dd = np.append(dd,[ddi],axis=0)\n",
    "    return np.array(dd)\n",
    "\n",
    "#Código extraído del repositorio del profesor Torres\n",
    "def Newton(x, y, show=False):\n",
    "    # We calculate the divided differences and store them in a data structure\n",
    "    dd = Divided_Differences(x,y)\n",
    "    \n",
    "    # The function shows the data if the flag is true\n",
    "    if show:\n",
    "        print('Data Points: '); print([(x[i],y[i]) for i in range(len(x))])\n",
    "        xS = sp.Symbol('x')\n",
    "        N = np.dot(dd[:,0],np.append([1],[np.prod(xS-x[:i]) for i in range(1,len(dd))]))\n",
    "        print('Interpolation Function: ');\n",
    "        print(N)\n",
    "        \n",
    "    # Finally, we return a data structure with our interpolating polynomial\n",
    "    D = {'M':'Newton',\n",
    "         'P':dd[:,0],\n",
    "         'x':x,\n",
    "         'y':y}\n",
    "    return D\n",
    "\n",
    "#Código extraído del repositorio del profesor Torres\n",
    "def Chebyshev_points(xmin,xmax,n):\n",
    "    ns = np.arange(1,n+1)\n",
    "    x = np.cos((2*ns-1)*np.pi/(2*n))\n",
    "    #y = np.sin((2*ns-1)*np.pi/(2*n))\n",
    "    return ((xmin+xmax)/2) + ((xmax-xmin)*x/2)"
   ]
  },
  {
   "cell_type": "code",
   "execution_count": 4,
   "metadata": {},
   "outputs": [],
   "source": [
    "def derivativeValues(values, method, cheb):\n",
    "    \"\"\"\n",
    "    Parameters\n",
    "    ----------\n",
    "    values:\t(int array) points values\n",
    "    method:\t(string)\tinterpolation method\n",
    "    cheb:\t(boolean)\tif chebyshev points are used\n",
    "\n",
    "    Returns\n",
    "    -------\n",
    "    d:\t(float array) derivative value of interpolated points\n",
    "\n",
    "    \"\"\"\n",
    "    if cheb:\n",
    "        xValues = np.array(Chebyshev_points(0, len(values)-1, len(values)))\n",
    "    else:\n",
    "        xValues = np.array(np.linspace(0, len(values)-1, len(values)))\n",
    "    xValues = np.sort(xValues)\n",
    "    if method == 'lagrange':\n",
    "        P = interpolate.lagrange(xValues, values)\n",
    "        P = np.poly1d(P)\n",
    "        Px = P.deriv()  \n",
    "    if method == 'newton':\n",
    "        coeficientes = Newton(xValues, values, show=False)['P'] #coef. del polinomio\n",
    "        Xs = list(xValues)\n",
    "        del Xs[-1]\n",
    "        Pn = 0\n",
    "        while(Xs != []):\n",
    "            P = 1\n",
    "            for value in Xs:\n",
    "                P = np.poly1d([1,-value])*P\n",
    "            del Xs[-1]\n",
    "            if len(coeficientes) != 1:\n",
    "                Pn = Pn + P*coeficientes[-1]\n",
    "                coeficientes = np.delete(coeficientes,-1)\n",
    "        Px = Pn.deriv()\n",
    "    if method == 'spline3':\n",
    "        P = interpolate.CubicSpline(np.sort(xValues), values)\n",
    "        Px = P.derivative()\n",
    "    d=[]\n",
    "    for value in xValues:\n",
    "        d.append(Px(value))\n",
    "    \n",
    "    return np.array(d)"
   ]
  },
  {
   "cell_type": "markdown",
   "metadata": {},
   "source": [
    "\n",
    "### 1.2 Interpolación de imagen (50 puntos)\n",
    "Implemente la función `bicubicInterpolation` que reciba como input la matriz de la imagen y cuantos píxeles extra se quiere agregar entre los píxeles originales y el algoritmo de interpolación a utilizar. La función debe retornar la matriz con la imagen de dimensión nueva. Considere que se debe aplicar el método de interpolación en cada canal RGB por separado."
   ]
  },
  {
   "cell_type": "code",
   "execution_count": 5,
   "metadata": {
    "scrolled": true
   },
   "outputs": [],
   "source": [
    "#Función que recibe una matriz f y obtiene fx interpolando de a 3 puntos\n",
    "def fx(matriz, method, cheb):\n",
    "    final = []\n",
    "    for fila in matriz:\n",
    "        nFila = []\n",
    "        largo = len(fila)\n",
    "        for i in range(largo):\n",
    "            if (i == 0) or (i == 1) or (i == (largo-1)) or (i == (largo-2)):\n",
    "                if i == 1:\n",
    "                    nFila.append( derivativeValues(fila[0:3],method,cheb)[1] )\n",
    "                if i == 0:\n",
    "                    nFila.append( derivativeValues(fila[0:3],method,cheb)[0] )\n",
    "                if i == (largo-2):\n",
    "                    nFila.append( derivativeValues(fila[largo-3:largo],method,cheb)[1] )\n",
    "                if i == (largo-1):\n",
    "                    nFila.append( derivativeValues(fila[largo-3:largo],method,cheb)[2] )\n",
    "            else:\n",
    "                nFila.append( derivativeValues(fila[i-1:i+2],method,cheb)[1] )\n",
    "        final.append(nFila)\n",
    "    return np.array(final)\n",
    "\n",
    "#Resuelve Aα=x recolectando todos los elementos X de las matrices recibidas\n",
    "def coeficientes(f, fx, fy, fxy):\n",
    "    filas, colum = f.shape\n",
    "    coeficientes = []\n",
    "    xs = [] #los xs de Ab=x, cada posicion son todos los xs de ese cuadrado\n",
    "    A = [[1, 0, 0, 0, 0, 0, 0, 0, 0, 0, 0, 0, 0, 0, 0, 0], #matriz resultante de aplicar las sumatorias\n",
    "         [1, 1, 1, 1, 0, 0, 0, 0, 0, 0, 0, 0, 0, 0, 0, 0],\n",
    "         [1, 0, 0, 0, 1, 0, 0, 0, 1, 0, 0, 0, 1, 0, 0, 0],\n",
    "         [1, 1, 1, 1, 1, 1, 1, 1, 1, 1, 1, 1, 1, 1, 1, 1],\n",
    "         [0, 1, 0, 0, 0, 0, 0, 0, 0, 0, 0, 0, 0, 0, 0, 0],\n",
    "         [0, 1, 2, 3, 0, 0, 0, 0, 0, 0, 0, 0, 0, 0, 0, 0],\n",
    "         [0, 1, 0, 0, 0, 1, 0, 0, 0, 1, 0, 0, 0, 1, 0, 0],\n",
    "         [0, 1, 2, 3, 0, 1, 2, 3, 0, 1, 2, 3, 0, 1, 2, 3],\n",
    "         [0, 0, 0, 0, 1, 0, 0, 0, 0, 0, 0, 0, 0, 0, 0, 0],\n",
    "         [0, 0, 0, 0, 1, 1, 1, 1, 0, 0, 0, 0, 0, 0, 0, 0],\n",
    "         [0, 0, 0, 0, 1, 0, 0, 0, 2, 0, 0, 0, 3, 0, 0, 0],\n",
    "         [0, 0, 0, 0, 1, 1, 1, 1, 2, 2, 2, 2, 3, 3, 3, 3],\n",
    "         [0, 0, 0, 0, 0, 1, 0, 0, 0, 0, 0, 0, 0, 0, 0, 0],\n",
    "         [0, 0, 0, 0, 0, 1, 2, 3, 0, 0, 0, 0, 0, 0, 0, 0],\n",
    "         [0, 0, 0, 0, 0, 1, 0, 0, 0, 2, 0, 0, 0, 3, 0, 0],\n",
    "         [0, 0, 0, 0, 0, 1, 2, 3, 0, 2, 4, 6, 0, 3, 6, 9]]\n",
    "    for i in range(filas-1):\n",
    "        for j in range(colum-1):\n",
    "            coef = []\n",
    "            coef1 = []\n",
    "            coef2 = []\n",
    "            coef3 = []\n",
    "            coef.append(f[i][j])\n",
    "            coef.append(f[i+1][j])\n",
    "            coef.append(f[i][j+1])\n",
    "            coef.append(f[i+1][j+1])\n",
    "            \n",
    "            coef1.append(fx[i][j])\n",
    "            coef1.append(fx[i+1][j])\n",
    "            coef1.append(fx[i][j+1])\n",
    "            coef1.append(fx[i+1][j+1])\n",
    "            \n",
    "            coef2.append(fy[i][j])\n",
    "            coef2.append(fy[i+1][j])\n",
    "            coef2.append(fy[i][j+1])\n",
    "            coef2.append(fy[i+1][j+1])\n",
    "            \n",
    "            coef3.append(fxy[i][j])\n",
    "            coef3.append(fxy[i+1][j])\n",
    "            coef3.append(fxy[i][j+1])\n",
    "            coef3.append(fxy[i+1][j+1])\n",
    "            \n",
    "            c = coef+coef1+coef2+coef3\n",
    "            xs.append(c)\n",
    "    xs = np.array(xs)\n",
    "    #print(\"xs\")\n",
    "    #print(xs)\n",
    "    for i in range(len(xs)):\n",
    "        b = np.transpose(xs[i])\n",
    "        res = list(np.linalg.solve(A, b))\n",
    "        coeficientes.append(res)\n",
    "    return np.array(coeficientes)\n",
    "\n",
    "#funcion que recibe los coeficientes (con esto armamos el polinomio) \n",
    "#y los puntos a evaluar y devuelve el valor de esa posicion\n",
    "def evaluar(coef, x, y):\n",
    "    pol = []\n",
    "    i = 0\n",
    "    for k in range(4): # a00 a10 a20 a30\n",
    "        pol.append( coef[k]*(x**i)*(y**0) )\n",
    "        i+=1\n",
    "    i = 0\n",
    "    for k in range(4,8):#a01 a11 a21 a31\n",
    "        pol.append( coef[k]*(x**i)*(y**1) )\n",
    "        i+=1\n",
    "    i = 0\n",
    "    for k in range(8,12): #a02 a12 a22 a32\n",
    "        pol.append( coef[k]*(x**i)*(y**2) )\n",
    "        i+=1\n",
    "    i = 0\n",
    "    for k in range(12,16):#a03 a13 a23 a33\n",
    "        pol.append( coef[k]*(x**i)*(y**3) )\n",
    "        i+=1\n",
    "    return sum(pol)\n",
    "\n",
    "#funcion que recibe los coeficientes y calcula todos los cuadrados de la matriz expandida\n",
    "#devuelve estos cuadrados en forma de matriz de matrices\n",
    "def penultima(coef, interiorPixels):\n",
    "    matrices = []\n",
    "    ys = np.linspace(0, 1, interiorPixels+2)\n",
    "    for filaCoef in coef:\n",
    "        matriz = []\n",
    "        for i in range(interiorPixels+2): #i = filas\n",
    "            fila = []\n",
    "            for j in range(interiorPixels+2): #j = columnas\n",
    "                valor = int(evaluar(filaCoef, ys[i], ys[j]))#x, y \n",
    "                if valor<0:\n",
    "                    fila.append(int(0))\n",
    "                elif valor>255:\n",
    "                    fila.append(int(255))\n",
    "                else:\n",
    "                    fila.append(valor) \n",
    "            matriz.append(fila)\n",
    "        matrices.append(matriz)\n",
    "    return np.array(matrices)\n",
    "\n",
    "#funcion que toma los cuadrados y los aplica a la matriz final\n",
    "def final(cuadrados, image, interiorPixels):\n",
    "    fil, col, _ = image.shape\n",
    "    newImage = np.zeros((fil+(interiorPixels*(fil-1)), col+(interiorPixels*(col-1))))\n",
    "    repeticiones = fil-1 #repeticiones horizontales filas originales!!! de la matriz original\n",
    "    k = 0\n",
    "    largoT = interiorPixels+2\n",
    "    largo = interiorPixels+2\n",
    "    for j in range(repeticiones): #se repite el numero de filas\n",
    "        kc = 0\n",
    "        largoc = interiorPixels+2\n",
    "        for i in range(repeticiones): #se repite el numero de columnas\n",
    "            newImage[k:largo, kc:largoc] = cuadrados[i]\n",
    "            kc = kc + largoT - 1\n",
    "            largoc = largoc + largoT-1\n",
    "        for n in range(repeticiones):\n",
    "            cuadrados = np.delete(cuadrados, 0, 0)\n",
    "        k = k+largoT - 1\n",
    "        largo = largo + largoT -1 \n",
    "    return newImage\n",
    "\n",
    "#junta las 3 matrices en una como la original\n",
    "def reconstruccion(rojo, verde, azul):\n",
    "    f, _ = rojo.shape\n",
    "    matriz = []\n",
    "    for i in range(f):\n",
    "        fila = []\n",
    "        for j in range(f):\n",
    "            rgb = []\n",
    "            rgb.append(rojo[i][j])\n",
    "            rgb.append(verde[i][j])\n",
    "            rgb.append(azul[i][j])\n",
    "            fila.append(np.array(rgb))\n",
    "        matriz.append(np.array(fila))\n",
    "    return np.array(matriz)"
   ]
  },
  {
   "cell_type": "code",
   "execution_count": 6,
   "metadata": {},
   "outputs": [],
   "source": [
    "def bicubicInterpolation(image, interiorPixels, method,cheb):\n",
    "    \"\"\"\n",
    "    Parameters\n",
    "    ----------\n",
    "    image:\t(nxnx3 array) image array in RGB format\n",
    "    interiorPixels:\t(int)\tinterpolation method\n",
    "    method:\t(string)\tinterpolation method\n",
    "    cheb:\t(boolean)\tif chebyshev points are used\n",
    "\n",
    "\n",
    "    Returns\n",
    "    -------\n",
    "    newImage:\t(nxnx3 array) image array in RGB format\n",
    "\n",
    "    \"\"\"\n",
    "    #f\n",
    "    imageRoja = []\n",
    "    imageVerde = []\n",
    "    imageAzul = []\n",
    "    for fila in image:\n",
    "        nFila = []\n",
    "        for elem in fila:\n",
    "            nFila.append(elem[0])\n",
    "        imageRoja.append(nFila)\n",
    "    for fila in image:\n",
    "        nFila = []\n",
    "        for elem in fila:\n",
    "            nFila.append(elem[1])\n",
    "        imageVerde.append(nFila)\n",
    "    for fila in image:\n",
    "        nFila = []\n",
    "        for elem in fila:\n",
    "            nFila.append(elem[2])\n",
    "        imageAzul.append(nFila)\n",
    "    imageRoja = np.array(imageRoja).astype(int)\n",
    "    imageVerde = np.array(imageVerde).astype(int)\n",
    "    imageAzul = np.array(imageAzul).astype(int)\n",
    "    #fx\n",
    "    imageRojaX = fx(imageRoja, method, cheb)\n",
    "    imageVerdeX = fx(imageVerde, method, cheb)\n",
    "    imageAzulX = fx(imageAzul, method, cheb)\n",
    "    #fy\n",
    "    imageRojaY = np.transpose(fx(np.transpose(imageRoja), method, cheb))\n",
    "    imageVerdeY = np.transpose(fx(np.transpose(imageVerde), method, cheb))\n",
    "    imageAzulY = np.transpose(fx(np.transpose(imageAzul), method, cheb))\n",
    "    #fxy\n",
    "    imageRojaXy = fx(imageRojaY, method, cheb)\n",
    "    imageVerdeXy = fx(imageVerdeY, method, cheb)\n",
    "    imageAzulXy = fx(imageAzulY, method, cheb)\n",
    "    #Resolvemos Aα=x para cada cuadrao 2x2 guardando los coeficientes en una matriz\n",
    "    coefRojo = coeficientes(imageRoja, imageRojaX, imageRojaY, imageRojaXy)\n",
    "    #print(\"coeficientes rojos\")\n",
    "    #print(coefRojo)\n",
    "    coefVerde = coeficientes(imageVerde, imageVerdeX, imageVerdeY, imageVerdeXy)\n",
    "    coefAzul = coeficientes(imageAzul, imageAzulX, imageAzulY, imageAzulXy)\n",
    "    #calculamos todos los cuadrados vacios\n",
    "    cuadradosRojos = penultima(coefRojo, interiorPixels)\n",
    "    cuadradosVerde = penultima(coefVerde, interiorPixels)\n",
    "    cuadradosAzul = penultima(coefAzul, interiorPixels)\n",
    "    #generamos las matrices extendidas resultantes por cada color\n",
    "    rojo = final(cuadradosRojos, image, interiorPixels)\n",
    "    verde = final(cuadradosVerde, image, interiorPixels)\n",
    "    azul = final(cuadradosAzul, image, interiorPixels)\n",
    "    #volvemos la matriz a su estructura original RGB\n",
    "    newImage = (reconstruccion(rojo, verde, azul)).astype(int)\n",
    "    return newImage"
   ]
  },
  {
   "cell_type": "markdown",
   "metadata": {},
   "source": [
    "## 2. Evaluacion de algoritmos\n",
    "\n"
   ]
  },
  {
   "cell_type": "markdown",
   "metadata": {},
   "source": [
    "### 2.1 Tiempo de ejecucion \n",
    "Implemente la funcion `timeInterpolation` que mida el tiempo de interpolacion de una imagen dado el algoritmo de interpolacion en segundos.(5 puntos)"
   ]
  },
  {
   "cell_type": "code",
   "execution_count": 7,
   "metadata": {},
   "outputs": [],
   "source": [
    "def timeInterpolation(image, interiorPixels, method,cheb):\n",
    "    \"\"\"\n",
    "    Parameters\n",
    "    ----------\n",
    "    image:\t(nxnx3 array) image array in RGB format\n",
    "    interiorPixels:\t(int)\tinterpolation method\n",
    "    method:\t(string)\tinterpolation method\n",
    "    cheb:\t(boolean)\tif chebyshev points are used\n",
    "\n",
    "\n",
    "    Returns\n",
    "    -------\n",
    "    time:\t(float) time in seconds\n",
    "\n",
    "    \"\"\"\n",
    "    \n",
    "    comienzo = time.time()\n",
    "\n",
    "    a = bicubicInterpolation(image, interiorPixels, method, cheb)\n",
    "\n",
    "    termino = time.time()\n",
    "\n",
    "    tiempo =  termino - comienzo \n",
    "    return tiempo"
   ]
  },
  {
   "cell_type": "markdown",
   "metadata": {},
   "source": [
    "***Pregunta: ¿Cual es el metodo que presenta mayor velocidad en general? (5 puntos)***"
   ]
  },
  {
   "cell_type": "markdown",
   "metadata": {},
   "source": [
    "Utilizaremos los tres métodos con y sin chebyshev con 1 y 2 pixeles interiores por cada imágen:"
   ]
  },
  {
   "cell_type": "code",
   "execution_count": 99,
   "metadata": {},
   "outputs": [],
   "source": [
    "metodos = ['lagrange', 'newton', 'spline3']\n",
    "cat = Image.open('imagenes_prueba/cat.png').convert('RGB')\n",
    "gradient = Image.open('imagenes_prueba/gradient.png')\n",
    "sunset = Image.open('imagenes_prueba/sunset.png')"
   ]
  },
  {
   "cell_type": "markdown",
   "metadata": {},
   "source": [
    "#### Imágen: cat.png"
   ]
  },
  {
   "cell_type": "code",
   "execution_count": 100,
   "metadata": {},
   "outputs": [
    {
     "name": "stdout",
     "output_type": "stream",
     "text": [
      "El método utilizado:  lagrange\n",
      "Pixeles interiores utilizados:  1\n",
      "Puntos de chebyshev(0 es No y 1 es Sí):  0\n",
      "Tiempo total:  12.405929565429688  s\n",
      "---------------------------------------------\n",
      "El método utilizado:  lagrange\n",
      "Pixeles interiores utilizados:  2\n",
      "Puntos de chebyshev(0 es No y 1 es Sí):  1\n",
      "Tiempo total:  13.477872371673584  s\n",
      "---------------------------------------------\n",
      "El método utilizado:  newton\n",
      "Pixeles interiores utilizados:  1\n",
      "Puntos de chebyshev(0 es No y 1 es Sí):  0\n",
      "Tiempo total:  9.428178787231445  s\n",
      "---------------------------------------------\n",
      "El método utilizado:  newton\n",
      "Pixeles interiores utilizados:  2\n",
      "Puntos de chebyshev(0 es No y 1 es Sí):  1\n",
      "Tiempo total:  9.548043489456177  s\n",
      "---------------------------------------------\n",
      "El método utilizado:  spline3\n",
      "Pixeles interiores utilizados:  1\n",
      "Puntos de chebyshev(0 es No y 1 es Sí):  0\n",
      "Tiempo total:  8.383164405822754  s\n",
      "---------------------------------------------\n",
      "El método utilizado:  spline3\n",
      "Pixeles interiores utilizados:  2\n",
      "Puntos de chebyshev(0 es No y 1 es Sí):  1\n",
      "Tiempo total:  8.998149394989014  s\n",
      "---------------------------------------------\n"
     ]
    }
   ],
   "source": [
    "for metodo in metodos:\n",
    "    for i in range(2):\n",
    "        print(\"El método utilizado: \", metodo)\n",
    "        print(\"Pixeles interiores utilizados: \", i+1)\n",
    "        print(\"Puntos de chebyshev(0 es No y 1 es Sí): \", i)\n",
    "        print(\"Tiempo total: \",timeInterpolation(np.array(cat), i+1, metodo, i),\" s\")\n",
    "        print(\"---------------------------------------------\")"
   ]
  },
  {
   "cell_type": "markdown",
   "metadata": {},
   "source": [
    "##### En este caso gana Splines cúbicas."
   ]
  },
  {
   "cell_type": "markdown",
   "metadata": {},
   "source": [
    "#### Imágen: gradient.png"
   ]
  },
  {
   "cell_type": "code",
   "execution_count": 101,
   "metadata": {},
   "outputs": [
    {
     "name": "stdout",
     "output_type": "stream",
     "text": [
      "El método utilizado:  lagrange\n",
      "Pixeles interiores utilizados:  1\n",
      "Puntos de chebyshev(0 es No y 1 es Sí):  0\n",
      "Tiempo total en segundos:  11.194931983947754\n",
      "---------------------------------------------\n",
      "El método utilizado:  lagrange\n",
      "Pixeles interiores utilizados:  2\n",
      "Puntos de chebyshev(0 es No y 1 es Sí):  1\n",
      "Tiempo total en segundos:  11.705691814422607\n",
      "---------------------------------------------\n",
      "El método utilizado:  newton\n",
      "Pixeles interiores utilizados:  1\n",
      "Puntos de chebyshev(0 es No y 1 es Sí):  0\n",
      "Tiempo total en segundos:  8.541957378387451\n",
      "---------------------------------------------\n",
      "El método utilizado:  newton\n",
      "Pixeles interiores utilizados:  2\n",
      "Puntos de chebyshev(0 es No y 1 es Sí):  1\n",
      "Tiempo total en segundos:  9.127081871032715\n",
      "---------------------------------------------\n",
      "El método utilizado:  spline3\n",
      "Pixeles interiores utilizados:  1\n",
      "Puntos de chebyshev(0 es No y 1 es Sí):  0\n",
      "Tiempo total en segundos:  8.403976917266846\n",
      "---------------------------------------------\n",
      "El método utilizado:  spline3\n",
      "Pixeles interiores utilizados:  2\n",
      "Puntos de chebyshev(0 es No y 1 es Sí):  1\n",
      "Tiempo total en segundos:  8.789264917373657\n",
      "---------------------------------------------\n"
     ]
    }
   ],
   "source": [
    "for metodo in metodos:\n",
    "    for i in range(2):\n",
    "        print(\"El método utilizado: \", metodo)\n",
    "        print(\"Pixeles interiores utilizados: \", i+1)\n",
    "        print(\"Puntos de chebyshev(0 es No y 1 es Sí): \", i)\n",
    "        print(\"Tiempo total en segundos: \",timeInterpolation(np.array(gradient), i+1, metodo, i))\n",
    "        print(\"---------------------------------------------\")"
   ]
  },
  {
   "cell_type": "markdown",
   "metadata": {},
   "source": [
    "##### En este caso gana Splines cúbicas en ambos casos."
   ]
  },
  {
   "cell_type": "markdown",
   "metadata": {},
   "source": [
    "#### Imágen: sunset.png"
   ]
  },
  {
   "cell_type": "code",
   "execution_count": 102,
   "metadata": {},
   "outputs": [
    {
     "name": "stdout",
     "output_type": "stream",
     "text": [
      "El método utilizado:  lagrange\n",
      "Pixeles interiores utilizados:  1\n",
      "Puntos de chebyshev(0 es No y 1 es Sí):  0\n",
      "Tiempo total:  44.708736181259155  s\n",
      "---------------------------------------------\n",
      "El método utilizado:  lagrange\n",
      "Pixeles interiores utilizados:  2\n",
      "Puntos de chebyshev(0 es No y 1 es Sí):  1\n",
      "Tiempo total:  47.448498487472534  s\n",
      "---------------------------------------------\n",
      "El método utilizado:  newton\n",
      "Pixeles interiores utilizados:  1\n",
      "Puntos de chebyshev(0 es No y 1 es Sí):  0\n",
      "Tiempo total:  34.62664270401001  s\n",
      "---------------------------------------------\n",
      "El método utilizado:  newton\n",
      "Pixeles interiores utilizados:  2\n",
      "Puntos de chebyshev(0 es No y 1 es Sí):  1\n",
      "Tiempo total:  37.17723894119263  s\n",
      "---------------------------------------------\n",
      "El método utilizado:  spline3\n",
      "Pixeles interiores utilizados:  1\n",
      "Puntos de chebyshev(0 es No y 1 es Sí):  0\n",
      "Tiempo total:  33.822211503982544  s\n",
      "---------------------------------------------\n",
      "El método utilizado:  spline3\n",
      "Pixeles interiores utilizados:  2\n",
      "Puntos de chebyshev(0 es No y 1 es Sí):  1\n",
      "Tiempo total:  36.2483925819397  s\n",
      "---------------------------------------------\n"
     ]
    }
   ],
   "source": [
    "for metodo in metodos:\n",
    "    for i in range(2):\n",
    "        print(\"El método utilizado: \", metodo)\n",
    "        print(\"Pixeles interiores utilizados: \", i+1)\n",
    "        print(\"Puntos de chebyshev(0 es No y 1 es Sí): \", i)\n",
    "        print(\"Tiempo total: \",timeInterpolation(np.array(sunset), i+1, metodo, i),\" s\")\n",
    "        print(\"---------------------------------------------\")"
   ]
  },
  {
   "cell_type": "markdown",
   "metadata": {},
   "source": [
    "##### En este caso gana Splines cúbicas en ambos casos."
   ]
  },
  {
   "cell_type": "markdown",
   "metadata": {},
   "source": [
    "###### Conclusión: El método de Splines cúbicas presenta los tiempos menores la mayoría de veces, por lo que es el método más rápido. Sin embargo, Newton es muy cercano."
   ]
  },
  {
   "cell_type": "markdown",
   "metadata": {},
   "source": [
    "### 2.2 Calculo de error\n",
    "Implemente la funcion `errorInterpolation` la cual debe obtener el error de la imagen obtenida comparandola con una de referencia. El error debe ser calculado utilizando el indice SSIM (Structural similarity) (5 puntos)"
   ]
  },
  {
   "cell_type": "code",
   "execution_count": 8,
   "metadata": {},
   "outputs": [],
   "source": [
    "def errorInterpolation(original,new):\n",
    "    \"\"\"\n",
    "    Parameters\n",
    "    ----------\n",
    "    image:\t(nxn array) original image array in RGB format\n",
    "    new:\t(nxn array) new image array in RGB format obtained from interpolation\n",
    "\n",
    "\n",
    "    Returns\n",
    "    -------\n",
    "    error:\t(float) difference between images \n",
    "\n",
    "    \"\"\"\n",
    "    n, _, _ = original.shape\n",
    "    ssim = structural_similarity(original,new,multichannel=True,data_range=n)\n",
    "    error = 1-ssim\n",
    "    return error"
   ]
  },
  {
   "cell_type": "markdown",
   "metadata": {},
   "source": [
    "***Pregunta: ¿Cual metodo presenta menor error? (5 puntos)***"
   ]
  },
  {
   "cell_type": "markdown",
   "metadata": {},
   "source": [
    "Compararemos las imágenes de \"_1pixel\" con la imágen original utilizando los 3 metodos con y sin chebyshev y 1 pixel interior:"
   ]
  },
  {
   "cell_type": "code",
   "execution_count": 104,
   "metadata": {},
   "outputs": [],
   "source": [
    "metodos = ['lagrange', 'newton', 'spline3']\n",
    "cat = Image.open('imagenes_prueba/cat_1pixel.png').convert('RGB')\n",
    "gradient = Image.open('imagenes_prueba/gradient_1pixel.png')\n",
    "sunset = Image.open('imagenes_prueba/sunset_1pixel.png')\n",
    "catNew = Image.open('imagenes_prueba/cat.png').convert('RGB')\n",
    "gradientNew = Image.open('imagenes_prueba/gradient.png')\n",
    "sunsetNew = Image.open('imagenes_prueba/sunset.png')"
   ]
  },
  {
   "cell_type": "markdown",
   "metadata": {},
   "source": [
    "#### Imágen: cat.png"
   ]
  },
  {
   "cell_type": "code",
   "execution_count": 105,
   "metadata": {},
   "outputs": [
    {
     "name": "stdout",
     "output_type": "stream",
     "text": [
      "El método utilizado:  lagrange\n",
      "Pixeles interiores utilizados:  1\n",
      "Puntos de chebyshev(0 es No y 1 es Sí):  0\n",
      "Error:  0.18621128977694867\n",
      "---------------------------------------------\n",
      "El método utilizado:  lagrange\n",
      "Pixeles interiores utilizados:  1\n",
      "Puntos de chebyshev(0 es No y 1 es Sí):  1\n",
      "Error:  0.1916669542034487\n",
      "---------------------------------------------\n",
      "El método utilizado:  newton\n",
      "Pixeles interiores utilizados:  1\n",
      "Puntos de chebyshev(0 es No y 1 es Sí):  0\n",
      "Error:  0.18621128977694867\n",
      "---------------------------------------------\n",
      "El método utilizado:  newton\n",
      "Pixeles interiores utilizados:  1\n",
      "Puntos de chebyshev(0 es No y 1 es Sí):  1\n",
      "Error:  0.18890284654847223\n",
      "---------------------------------------------\n",
      "El método utilizado:  spline3\n",
      "Pixeles interiores utilizados:  1\n",
      "Puntos de chebyshev(0 es No y 1 es Sí):  0\n",
      "Error:  0.18621024250593188\n",
      "---------------------------------------------\n",
      "El método utilizado:  spline3\n",
      "Pixeles interiores utilizados:  1\n",
      "Puntos de chebyshev(0 es No y 1 es Sí):  1\n",
      "Error:  0.188912219839518\n",
      "---------------------------------------------\n"
     ]
    }
   ],
   "source": [
    "for metodo in metodos:\n",
    "    for i in range(2):\n",
    "        print(\"El método utilizado: \", metodo)\n",
    "        print(\"Pixeles interiores utilizados: \", 1)\n",
    "        print(\"Puntos de chebyshev(0 es No y 1 es Sí): \", i)\n",
    "        print(\"Error: \",errorInterpolation(np.array(cat), bicubicInterpolation(np.array(catNew), 1, metodo, i) ))\n",
    "        print(\"---------------------------------------------\")"
   ]
  },
  {
   "cell_type": "markdown",
   "metadata": {},
   "source": [
    "##### Newton y Splines cúbicas presentan errores similares (Splines cúbicas levemente menor en un caso), mientras que lagrange tiene mayor error en este caso."
   ]
  },
  {
   "cell_type": "markdown",
   "metadata": {},
   "source": [
    "#### Imágen: gradient.png"
   ]
  },
  {
   "cell_type": "code",
   "execution_count": 106,
   "metadata": {},
   "outputs": [
    {
     "name": "stdout",
     "output_type": "stream",
     "text": [
      "El método utilizado:  lagrange\n",
      "Pixeles interiores utilizados:  1\n",
      "Puntos de chebyshev(0 es No y 1 es Sí):  0\n",
      "Error:  0.009002519666592601\n",
      "---------------------------------------------\n",
      "El método utilizado:  lagrange\n",
      "Pixeles interiores utilizados:  1\n",
      "Puntos de chebyshev(0 es No y 1 es Sí):  1\n",
      "Error:  0.009284108399750024\n",
      "---------------------------------------------\n",
      "El método utilizado:  newton\n",
      "Pixeles interiores utilizados:  1\n",
      "Puntos de chebyshev(0 es No y 1 es Sí):  0\n",
      "Error:  0.009002519666592601\n",
      "---------------------------------------------\n",
      "El método utilizado:  newton\n",
      "Pixeles interiores utilizados:  1\n",
      "Puntos de chebyshev(0 es No y 1 es Sí):  1\n",
      "Error:  0.009075135313849736\n",
      "---------------------------------------------\n",
      "El método utilizado:  spline3\n",
      "Pixeles interiores utilizados:  1\n",
      "Puntos de chebyshev(0 es No y 1 es Sí):  0\n",
      "Error:  0.009002519666592601\n",
      "---------------------------------------------\n",
      "El método utilizado:  spline3\n",
      "Pixeles interiores utilizados:  1\n",
      "Puntos de chebyshev(0 es No y 1 es Sí):  1\n",
      "Error:  0.009074257216683645\n",
      "---------------------------------------------\n"
     ]
    }
   ],
   "source": [
    "for metodo in metodos:\n",
    "    for i in range(2):\n",
    "        print(\"El método utilizado: \", metodo)\n",
    "        print(\"Pixeles interiores utilizados: \", 1)\n",
    "        print(\"Puntos de chebyshev(0 es No y 1 es Sí): \", i)\n",
    "        print(\"Error: \",errorInterpolation(np.array(gradient), bicubicInterpolation(np.array(gradientNew), 1, metodo, i) ))\n",
    "        print(\"---------------------------------------------\")"
   ]
  },
  {
   "cell_type": "markdown",
   "metadata": {},
   "source": [
    "##### En este caso Newton y Splines cúbicas son similares nuevamente, donde este último tiene un error un poco menor."
   ]
  },
  {
   "cell_type": "markdown",
   "metadata": {},
   "source": [
    "#### Imágen: sunset.png"
   ]
  },
  {
   "cell_type": "code",
   "execution_count": 107,
   "metadata": {},
   "outputs": [
    {
     "name": "stdout",
     "output_type": "stream",
     "text": [
      "El método utilizado:  lagrange\n",
      "Pixeles interiores utilizados:  1\n",
      "Puntos de chebyshev(0 es No y 1 es Sí):  0\n",
      "Error:  0.07399159551791679\n",
      "---------------------------------------------\n",
      "El método utilizado:  lagrange\n",
      "Pixeles interiores utilizados:  1\n",
      "Puntos de chebyshev(0 es No y 1 es Sí):  1\n",
      "Error:  0.07457252840005013\n",
      "---------------------------------------------\n",
      "El método utilizado:  newton\n",
      "Pixeles interiores utilizados:  1\n",
      "Puntos de chebyshev(0 es No y 1 es Sí):  0\n",
      "Error:  0.07399159551791679\n",
      "---------------------------------------------\n",
      "El método utilizado:  newton\n",
      "Pixeles interiores utilizados:  1\n",
      "Puntos de chebyshev(0 es No y 1 es Sí):  1\n",
      "Error:  0.07455597777620981\n",
      "---------------------------------------------\n",
      "El método utilizado:  spline3\n",
      "Pixeles interiores utilizados:  1\n",
      "Puntos de chebyshev(0 es No y 1 es Sí):  0\n",
      "Error:  0.07399260616700465\n",
      "---------------------------------------------\n",
      "El método utilizado:  spline3\n",
      "Pixeles interiores utilizados:  1\n",
      "Puntos de chebyshev(0 es No y 1 es Sí):  1\n",
      "Error:  0.07455570344629514\n",
      "---------------------------------------------\n"
     ]
    }
   ],
   "source": [
    "for metodo in metodos:\n",
    "    for i in range(2):\n",
    "        print(\"El método utilizado: \", metodo)\n",
    "        print(\"Pixeles interiores utilizados: \", 1)\n",
    "        print(\"Puntos de chebyshev(0 es No y 1 es Sí): \", i)\n",
    "        print(\"Error: \",errorInterpolation(np.array(sunset), bicubicInterpolation(np.array(sunsetNew), 1, metodo, i) ))\n",
    "        print(\"---------------------------------------------\")"
   ]
  },
  {
   "cell_type": "markdown",
   "metadata": {},
   "source": [
    "##### Newton y Splines cúbicas similares nuevamente (primer caso el menor error es de Newton y el segundo caso el menor error es de Spline cúbica)."
   ]
  },
  {
   "cell_type": "markdown",
   "metadata": {},
   "source": [
    "##### Como conclusión, utilizar los métodos de Newton y Splines cúbicas dan errores diferentes pero donde esa diferencia es casi imperceptible aunque levemente menor para Splines cúbicas en algunos casos. Lagrange entrega errores más altos que estos dos métodos en algunos casos."
   ]
  },
  {
   "cell_type": "markdown",
   "metadata": {},
   "source": [
    "# Consideraciones"
   ]
  },
  {
   "cell_type": "markdown",
   "metadata": {},
   "source": [
    "* Solo trabajaremos con imagenes cuadradas\n",
    "* En el caso que el valor interpolado de un punto sea mayor a 255 o menor a 0, este se trunca a 255 o 0 respectivamente\n",
    "* Esta permitido el uso de sympy para calcular derivadas y para construir el polinomio interpolador \n",
    "* El calculo de error puede ser calculado utilizando la imagen en escala de grises [(ejemplo)](https://scikit-image.org/docs/dev/auto_examples/transform/plot_ssim.html)"
   ]
  },
  {
   "cell_type": "code",
   "execution_count": 10,
   "metadata": {},
   "outputs": [],
   "source": [
    "metodos = ['lagrange', 'newton', 'spline3']\n",
    "cat = Image.open('imagenes_prueba/cat_4pixel.png').convert('RGB')\n",
    "gradient = Image.open('imagenes_prueba/gradient_4pixel.png')\n",
    "sunset = Image.open('imagenes_prueba/sunset_2pixel.png')\n",
    "\n",
    "catNew = np.array(Image.open('imagenes_prueba/cat.png').convert('RGB'))\n",
    "gradientNew = np.array(Image.open('imagenes_prueba/gradient.png'))\n",
    "sunsetNew = np.array(Image.open('imagenes_prueba/sunset.png'))"
   ]
  },
  {
   "cell_type": "code",
   "execution_count": 11,
   "metadata": {},
   "outputs": [],
   "source": [
    "uno=bicubicInterpolation(catNew, 4, 'newton', 0)\n",
    "dos=bicubicInterpolation(gradientNew, 4,'newton', 0)\n",
    "tres=bicubicInterpolation(sunsetNew, 2,'newton', 0)"
   ]
  },
  {
   "cell_type": "code",
   "execution_count": 12,
   "metadata": {},
   "outputs": [
    {
     "name": "stdout",
     "output_type": "stream",
     "text": [
      "0.3104527007593342\n",
      "0.011020640340876686\n",
      "0.08865682555985444\n"
     ]
    }
   ],
   "source": [
    "print(errorInterpolation(np.array(cat),uno))\n",
    "print(errorInterpolation(np.array(gradient),dos))\n",
    "print(errorInterpolation(np.array(sunset),tres))"
   ]
  },
  {
   "cell_type": "code",
   "execution_count": 14,
   "metadata": {},
   "outputs": [
    {
     "data": {
      "image/png": "[encoded data removed]",
      "text/plain": [
       "<Figure size 432x288 with 1 Axes>"
      ]
     },
     "metadata": {
      "needs_background": "light"
     },
     "output_type": "display_data"
    },
    {
     "data": {
      "image/png": "[encoded data removed]",
      "text/plain": [
       "<Figure size 432x288 with 1 Axes>"
      ]
     },
     "metadata": {
      "needs_background": "light"
     },
     "output_type": "display_data"
    }
   ],
   "source": [
    "#img = Image.open('imagenes_prueba/gradient.png')\n",
    "#array=np.array(img)\n",
    "imgplot = plt.imshow(uno)\n",
    "plt.show()\n",
    "fdt = plt.imshow(np.array(cat))\n",
    "plt.show()"
   ]
  },
  {
   "cell_type": "code",
   "execution_count": null,
   "metadata": {},
   "outputs": [],
   "source": []
  }
 ],
 "metadata": {
  "kernelspec": {
   "display_name": "Python 3",
   "language": "python",
   "name": "python3"
  },
  "language_info": {
   "codemirror_mode": {
    "name": "ipython",
    "version": 3
   },
   "file_extension": ".py",
   "mimetype": "text/x-python",
   "name": "python",
   "nbconvert_exporter": "python",
   "pygments_lexer": "ipython3",
   "version": "3.8.2"
  }
 },
 "nbformat": 4,
 "nbformat_minor": 4
}
