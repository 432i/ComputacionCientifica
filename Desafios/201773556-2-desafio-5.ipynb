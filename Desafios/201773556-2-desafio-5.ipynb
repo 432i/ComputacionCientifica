{
 "cells": [
  {
   "cell_type": "markdown",
   "metadata": {
    "colab_type": "text",
    "id": "K5lg-n4TOt9O"
   },
   "source": [
    "# INF-285 / ILI-285\n",
    "## Desafío 5 v1.1\n",
    "### SCT 2020-1"
   ]
  },
  {
   "cell_type": "markdown",
   "metadata": {
    "colab_type": "text",
    "id": "gg9MfXUVOt9Q"
   },
   "source": [
    "## Instrucciones\n",
    "* El desafío es individual, por lo cual se considera que todo el código entregado es de elaboración propia y no ha sido compartido de forma alguna.\n",
    "* Las consultas sobre el desafío se deben realizar por medio de la plataforma Aula. **No está permitido publicar código en consultas de Aula**.\n",
    "* El desafío debe ser realizado en Jupyter Notebook (Python3) utilizando este archivo como base.\n",
    "* Debe utilizar arreglos de NumPy junto a las funciones y bibliotecas que se ponen a disposición en este archivo.\n",
    "* Se debe respetar las firmas de las funciones, sus parámetros y retornos. Para eso se incluye un detalle de cada función tanto de las entregadas como las que deberá implementar. En caso de no seguir estas instrucciones, el desafío no podrá evaluarse.\n",
    "* Se evaluará la correcta utilización de librerias NumPy, SciPy, entre otras, así como la correcta implementación de algoritmos de forma vectorizada.\n",
    "* Evitar la impresión de mensajes salvo que se solicite en el enunciado.\n",
    "* El archivo de entrega debe denominarse **ROL-desafio-numero.ipynb**. **De no respetarse este formato existirá un descuento de 50 puntos**.\n",
    "* La fecha de entrega es el **4 de agosto a las 12:00 hrs**."
   ]
  },
  {
   "cell_type": "code",
   "execution_count": 261,
   "metadata": {
    "colab": {},
    "colab_type": "code",
    "executionInfo": {
     "elapsed": 943,
     "status": "ok",
     "timestamp": 1595953965557,
     "user": {
      "displayName": "Daniel San Martin",
      "photoUrl": "https://lh3.googleusercontent.com/a-/AOh14Gh2H_R1eke7gfs9ptm4_ZPOT9q7BMmrOHf1dOAvXg=s64",
      "userId": "18392387168599098942"
     },
     "user_tz": 240
    },
    "id": "zxq9LK92Ot9R"
   },
   "outputs": [],
   "source": [
    "import numpy as np\n",
    "import scipy.linalg as spla\n",
    "import matplotlib.pyplot as plt"
   ]
  },
  {
   "cell_type": "markdown",
   "metadata": {
    "colab_type": "text",
    "id": "cG6jrXAVOt9Z"
   },
   "source": [
    "## Introducción\n",
    "\n",
    "El objetivo de este desafío es evaluar su capacidad de \"analista de datos\" con un problema de regresión. \n",
    "Suponga que tiene el conjunto de datos $\\{(x_1,y_1), (x_2, y_2), \\dots, (x_m, y_m)\\}$ para los cuales necesitamos ajustar un modelo del tipo $f(x, \\boldsymbol{\\beta})$ con $\\boldsymbol{\\beta}=\\beta_1, \\beta_2, \\dots, \\beta_n$, los parámetros del modelo. Considere por ejemplo que un modelo lineal sería:\n",
    "\n",
    "\\begin{equation}\n",
    "    f(x, \\boldsymbol{\\beta})=\\beta_1 + \\beta_2\\,x.\n",
    "\\end{equation}\n",
    "\n",
    "Los datos provienen de algun instrumento de medición desconocido y se encuentran en la siguiente dirección: **[datos](https://github.com/sct-utfsm/INF-285/tree/master/desafios/data)**\n",
    "\n",
    "## Tarea\n",
    "\n",
    "La tarea es utilizar su creatividad para construir un modelo que se ajuste a los datos entregados. Para explorar visualmente los datos y posteriormente analizar su ajuste se pone a disposición la función ```plot(x_i, y_i, y_fit)``` que recibe los datos $x_i$, $y_i$, y en el caso que tenga su ajuste $y_{fit}$. "
   ]
  },
  {
   "cell_type": "code",
   "execution_count": 262,
   "metadata": {
    "colab": {},
    "colab_type": "code",
    "executionInfo": {
     "elapsed": 988,
     "status": "ok",
     "timestamp": 1595953965616,
     "user": {
      "displayName": "Daniel San Martin",
      "photoUrl": "https://lh3.googleusercontent.com/a-/AOh14Gh2H_R1eke7gfs9ptm4_ZPOT9q7BMmrOHf1dOAvXg=s64",
      "userId": "18392387168599098942"
     },
     "user_tz": 240
    },
    "id": "yZ5VL0MgOt9a"
   },
   "outputs": [],
   "source": [
    "def plot(x_i, y_i, y_fit=None):\n",
    "    \"\"\"\n",
    "    Plot data\n",
    "\n",
    "    Parameters\n",
    "    -----------\n",
    "    x_i     : (m, ) array\n",
    "             Data x_i to fit\n",
    "    y_i     : (m, ) array\n",
    "             Data y_i to fit\n",
    "    y_fit   : (m, ) array or None\n",
    "             Model output\n",
    "\n",
    "    Returns\n",
    "    -------\n",
    "    None\n",
    "    \"\"\"\n",
    "    plt.figure(figsize=(12, 6))\n",
    "    plt.plot(x_i, y_i, 'r.', label='Data')\n",
    "    if y_fit is not None:\n",
    "        plt.plot(x_i, y_fit, 'b-', label='Model')\n",
    "    plt.xlabel(r'$x$')\n",
    "    plt.ylabel(r'$y$')\n",
    "    plt.grid(True)\n",
    "    plt.legend()\n",
    "    plt.show()"
   ]
  },
  {
   "cell_type": "markdown",
   "metadata": {
    "colab_type": "text",
    "id": "sa9K8O_BOt9f"
   },
   "source": [
    "### Evaluación"
   ]
  },
  {
   "cell_type": "markdown",
   "metadata": {
    "colab_type": "text",
    "id": "vUOLhhB4Ot9g"
   },
   "source": [
    "Para evaluar su modelo, utilizaremos el *error cuadrático relativo* definido como:\n",
    "\\begin{equation}\n",
    "    SE_{rel} = \\frac{\\displaystyle \\sum_{i=1}^m (y_i - f(x_i, \\boldsymbol{\\beta}))^2}{\\displaystyle \\sum_{i=1}^{m}y_i^2} = \\frac{\\displaystyle\\sum_{i=1}^m (y_i - \\hat{y}_i)^2}{\\displaystyle \\sum_{i=1}^{m}y_i^2}.\n",
    "\\end{equation}\n",
    "\n",
    "Implemente la función ```SErel(y_i, y_fit)``` que reciba los valores de $y_i$ y los datos ajustados por su modelo $\\hat{y}_i$ y retorne el valor del error relativo indicado."
   ]
  },
  {
   "cell_type": "code",
   "execution_count": 263,
   "metadata": {
    "colab": {},
    "colab_type": "code",
    "executionInfo": {
     "elapsed": 976,
     "status": "ok",
     "timestamp": 1595953965617,
     "user": {
      "displayName": "Daniel San Martin",
      "photoUrl": "https://lh3.googleusercontent.com/a-/AOh14Gh2H_R1eke7gfs9ptm4_ZPOT9q7BMmrOHf1dOAvXg=s64",
      "userId": "18392387168599098942"
     },
     "user_tz": 240
    },
    "id": "v_9CYtA3Ot9g"
   },
   "outputs": [],
   "source": [
    "def SErel(y_i, y_fit):\n",
    "    \"\"\"\n",
    "    Relative SE computation\n",
    "\n",
    "    Parameters\n",
    "    -----------\n",
    "    y_i     : (m, ) array\n",
    "             Data y_i to fit\n",
    "    y_fit   : (n, ) array \n",
    "             Model output\n",
    "\n",
    "    Returns\n",
    "    -------\n",
    "    SE_rel  : float\n",
    "             Relative SE value\n",
    "    \"\"\"\n",
    "    SE_rel = 0\n",
    "    num = 0\n",
    "    den = 0\n",
    "    for i in range(len(y_i)):\n",
    "        num = num + (y_i[i] - y_fit[i])**2\n",
    "        den = den + (y_i[i])**2\n",
    "    SE_rel = num / den\n",
    "    return SE_rel"
   ]
  },
  {
   "cell_type": "markdown",
   "metadata": {
    "colab_type": "text",
    "id": "TQ8DEAojOt9l"
   },
   "source": [
    "Su nota se calculará utilizando el valor obtenido por el $SE_{rel}$ asociado a su modelo de la siguiente manera:\n",
    "\n",
    "\\begin{equation}\n",
    "    nota(SE_{rel}) = \n",
    "    \\begin{cases}\n",
    "        100 & \\text{si} \\quad 0.08 \\leq SE_{rel} \\leq 0.15 \\\\\n",
    "        round\\left(\\frac{835 - 900\\,SE_{rel} }{7}\\right) & \\text{si} \\quad SE_{rel} > 0.15\\\\\n",
    "        0 & \\text{si} \\quad SE_{rel} < 0.08\n",
    "    \\end{cases}\n",
    "\\end{equation}\n",
    "\n",
    "Se considera un ajuste deficiente si utiliza simplemente una función lineal para el ajuste, así que entre mejor sea su modelo, mejor será su nota ;). En el caso que el *error relativo* sea muy pequeño se puede considerar casi una interpolación, por lo tanto se evalúa con nota mínima. Puede utilizar la función adjunta para analizar la capacidad de su modelo."
   ]
  },
  {
   "cell_type": "code",
   "execution_count": 264,
   "metadata": {
    "colab": {},
    "colab_type": "code",
    "executionInfo": {
     "elapsed": 985,
     "status": "ok",
     "timestamp": 1595953965630,
     "user": {
      "displayName": "Daniel San Martin",
      "photoUrl": "https://lh3.googleusercontent.com/a-/AOh14Gh2H_R1eke7gfs9ptm4_ZPOT9q7BMmrOHf1dOAvXg=s64",
      "userId": "18392387168599098942"
     },
     "user_tz": 240
    },
    "id": "CQ9yrn1UOt9m"
   },
   "outputs": [],
   "source": [
    "def nota(se_rel):\n",
    "    if se_rel < 0.08: # Are you sure it's not an interpolation?\n",
    "        return 0\n",
    "    elif 0.08 <= se_rel <= 0.15:\n",
    "        return 100\n",
    "    else:\n",
    "        return np.round((835 - 900 * se_rel) / 7)"
   ]
  },
  {
   "cell_type": "markdown",
   "metadata": {
    "colab_type": "text",
    "id": "70MYmcbpOt9p"
   },
   "source": [
    "### Ajuste\n",
    "\n",
    "Como hemos revisado en clases, podemos ajustar los parámetros de un modelo utilizando mínimos cuadrados. Para esto tenemos dos opciones: \n",
    "\n",
    "####  Resolver las ecuaciones normales: \n",
    "\n",
    "\\begin{equation}\n",
    "    A^*\\, A \\mathbf{x} = A^*\\, \\mathbf{b}\n",
    "\\end{equation}\n",
    "\n",
    "#### Utilizar $QR$:\n",
    "\n",
    "1. Aplicar $QR$ reducido para obtener $A = \\hat{Q}\\,\\hat{R}$\n",
    "2. Resolver $\\hat{R}\\,\\mathbf{x}=\\hat{Q}^*\\,\\mathbf{b}$\n",
    "\n",
    "Para ambos casos recuerde que $A$ dependerá del modelo que usted proponga, $\\mathbf{x}=\\boldsymbol{\\beta}$ y $\\mathbf{b}$ es el vector asociado a $y_i$. Implemente la función ```modelFit(A, b, method)``` que reciba $A$, $\\mathbf{b}$ y ```method``` para indicar si se utilizarán las *ecuaciones normales* o $QR$, y retorne los parámetros $\\boldsymbol{\\beta}$ del modelo que está ajustando."
   ]
  },
  {
   "cell_type": "code",
   "execution_count": 265,
   "metadata": {
    "colab": {},
    "colab_type": "code",
    "executionInfo": {
     "elapsed": 981,
     "status": "ok",
     "timestamp": 1595953965631,
     "user": {
      "displayName": "Daniel San Martin",
      "photoUrl": "https://lh3.googleusercontent.com/a-/AOh14Gh2H_R1eke7gfs9ptm4_ZPOT9q7BMmrOHf1dOAvXg=s64",
      "userId": "18392387168599098942"
     },
     "user_tz": 240
    },
    "id": "VU_LJlnBOt9p"
   },
   "outputs": [],
   "source": [
    "def modelFit(A, b, method):\n",
    "    \"\"\"\n",
    "    Curve fitting\n",
    "\n",
    "    Parameters\n",
    "    -----------\n",
    "    A        : (m, n) array\n",
    "              A matrix of overdetermined system of equations\n",
    "    b        : (m, ) array\n",
    "              b vector of overdetermined system of equations\n",
    "    method   : string {'NE', 'QR'}\n",
    "              Solving method with Normal Equations 'NE' or QR factorization'QR'\n",
    "\n",
    "    Returns\n",
    "    -------\n",
    "    beta     : (n, ) array\n",
    "              Model parameters \n",
    "    \"\"\"\n",
    "    ...\n",
    "    if method == 'QR':\n",
    "        Q, R = np.linalg.qr(A)\n",
    "        beta = spla.solve_triangular(R, np.dot(np.transpose(Q), b))\n",
    "    else: #ec. normales\n",
    "        beta = np.linalg.solve(np.dot(np.transpose(A), A), np.dot(np.transpose(A), b))\n",
    "    return beta"
   ]
  },
  {
   "cell_type": "markdown",
   "metadata": {
    "colab_type": "text",
    "id": "zKCZWn_zOt95"
   },
   "source": [
    "----\n",
    "\n",
    "## Desarrollo"
   ]
  },
  {
   "cell_type": "markdown",
   "metadata": {
    "colab_type": "text",
    "id": "sr5JkYCrOt95"
   },
   "source": [
    "### Cargar datos"
   ]
  },
  {
   "cell_type": "code",
   "execution_count": 266,
   "metadata": {
    "colab": {},
    "colab_type": "code",
    "executionInfo": {
     "elapsed": 1380,
     "status": "ok",
     "timestamp": 1595953966110,
     "user": {
      "displayName": "Daniel San Martin",
      "photoUrl": "https://lh3.googleusercontent.com/a-/AOh14Gh2H_R1eke7gfs9ptm4_ZPOT9q7BMmrOHf1dOAvXg=s64",
      "userId": "18392387168599098942"
     },
     "user_tz": 240
    },
    "id": "0Mp3b8aWOt96"
   },
   "outputs": [
    {
     "data": {
      "image/png": "[encoded data removed]",
      "text/plain": [
       "<Figure size 864x432 with 1 Axes>"
      ]
     },
     "metadata": {
      "needs_background": "light"
     },
     "output_type": "display_data"
    }
   ],
   "source": [
    "# Load data\n",
    "data = np.load('d_5.npy')\n",
    "x_i = data[:,0]\n",
    "y_i = data[:,1]\n",
    "plot(x_i, y_i)"
   ]
  },
  {
   "cell_type": "markdown",
   "metadata": {
    "colab_type": "text",
    "id": "lS2DugbmOt97"
   },
   "source": [
    "### Modelo\n",
    "\n",
    "Como ejemplo se incluye un modelo lineal... Confiamos en que usted será más creativo en la construcción de su propuesta. Puede hacer uso de combinaciones de modelos vistos en clases, por ejemplo:\n",
    "\\begin{equation}\n",
    "    f(x, \\beta_1, \\beta_2, \\dots) = \\beta_1 + \\beta_2\\,x^2 + \\beta_2\\,x\\,\\cos(2\\pi x) + \\dots\n",
    "\\end{equation}"
   ]
  },
  {
   "cell_type": "code",
   "execution_count": 267,
   "metadata": {
    "colab": {},
    "colab_type": "code",
    "executionInfo": {
     "elapsed": 2265,
     "status": "ok",
     "timestamp": 1595953967007,
     "user": {
      "displayName": "Daniel San Martin",
      "photoUrl": "https://lh3.googleusercontent.com/a-/AOh14Gh2H_R1eke7gfs9ptm4_ZPOT9q7BMmrOHf1dOAvXg=s64",
      "userId": "18392387168599098942"
     },
     "user_tz": 240
    },
    "id": "4k8EAUSlOt97"
   },
   "outputs": [],
   "source": [
    "# Modify this function. It is only an example\n",
    "def modeloLineal(b1, b2, x):\n",
    "    return b1 + b2 * x\n",
    "def modeloPeriodico(c1, c2, c3, c4, x):\n",
    "    return c1 + c2*np.cos(2*np.pi*x) + x*c3*np.sin(2*np.pi*x) + x*c4*np.cos(4*np.pi*x)\n",
    "def modeloCuadratico(b1, b2, b3, x): #es el metodo cuadratico modificado, osea que es cóncavo\n",
    "    return b1 + b2 * x + b3*-1*(x**2)"
   ]
  },
  {
   "cell_type": "markdown",
   "metadata": {
    "colab_type": "text",
    "id": "4S5QkSC9Ot99"
   },
   "source": [
    "Construcción de $A$ y $\\mathbf{b}$"
   ]
  },
  {
   "cell_type": "code",
   "execution_count": 268,
   "metadata": {
    "colab": {},
    "colab_type": "code",
    "executionInfo": {
     "elapsed": 2260,
     "status": "ok",
     "timestamp": 1595953967009,
     "user": {
      "displayName": "Daniel San Martin",
      "photoUrl": "https://lh3.googleusercontent.com/a-/AOh14Gh2H_R1eke7gfs9ptm4_ZPOT9q7BMmrOHf1dOAvXg=s64",
      "userId": "18392387168599098942"
     },
     "user_tz": 240
    },
    "id": "v_lhGJhGOt99"
   },
   "outputs": [
    {
     "data": {
      "text/plain": [
       "'\\n#Modelo lineal (para probar)\\nA = np.ones((x_i.shape[0], 2))\\nA[:,1] = x_i\\nb = y_i\\n'"
      ]
     },
     "execution_count": 268,
     "metadata": {},
     "output_type": "execute_result"
    }
   ],
   "source": [
    "\"\"\"\n",
    "#Modelo lineal (para probar)\n",
    "A = np.ones((x_i.shape[0], 2))\n",
    "A[:,1] = x_i\n",
    "b = y_i\n",
    "\"\"\""
   ]
  },
  {
   "cell_type": "code",
   "execution_count": 269,
   "metadata": {},
   "outputs": [
    {
     "data": {
      "text/plain": [
       "'\\n#Modelo periodico\\nA = np.ones((x_i.shape[0], 4))\\nA[:,1] = np.cos(2*np.pi*x_i)\\nA[:,2] = max(x_i)*np.sin(2*np.pi*x_i)\\nA[:,3] = max(x_i)*np.cos(4*np.pi*x_i)\\nb = y_i\\n'"
      ]
     },
     "execution_count": 269,
     "metadata": {},
     "output_type": "execute_result"
    }
   ],
   "source": [
    "\"\"\"\n",
    "#Modelo periodico\n",
    "A = np.ones((x_i.shape[0], 4))\n",
    "A[:,1] = np.cos(2*np.pi*x_i)\n",
    "A[:,2] = max(x_i)*np.sin(2*np.pi*x_i)\n",
    "A[:,3] = max(x_i)*np.cos(4*np.pi*x_i)\n",
    "b = y_i\n",
    "\"\"\""
   ]
  },
  {
   "cell_type": "code",
   "execution_count": 270,
   "metadata": {},
   "outputs": [],
   "source": [
    "\n",
    "#Modelo cuadrático modificado\n",
    "A = np.ones((x_i.shape[0], 3))\n",
    "A[:,1] = x_i\n",
    "A[:,2] = -1*(x_i**2)\n",
    "b = y_i\n"
   ]
  },
  {
   "cell_type": "markdown",
   "metadata": {
    "colab_type": "text",
    "id": "JN-QgkphOt9-"
   },
   "source": [
    "Obtención de parámetros..."
   ]
  },
  {
   "cell_type": "code",
   "execution_count": 271,
   "metadata": {
    "colab": {},
    "colab_type": "code",
    "executionInfo": {
     "elapsed": 2257,
     "status": "ok",
     "timestamp": 1595953967010,
     "user": {
      "displayName": "Daniel San Martin",
      "photoUrl": "https://lh3.googleusercontent.com/a-/AOh14Gh2H_R1eke7gfs9ptm4_ZPOT9q7BMmrOHf1dOAvXg=s64",
      "userId": "18392387168599098942"
     },
     "user_tz": 240
    },
    "id": "fT56gdYmOt9_"
   },
   "outputs": [],
   "source": [
    "beta = modelFit(A, b, 'EN')"
   ]
  },
  {
   "cell_type": "code",
   "execution_count": 272,
   "metadata": {
    "colab": {},
    "colab_type": "code",
    "executionInfo": {
     "elapsed": 2255,
     "status": "ok",
     "timestamp": 1595953967011,
     "user": {
      "displayName": "Daniel San Martin",
      "photoUrl": "https://lh3.googleusercontent.com/a-/AOh14Gh2H_R1eke7gfs9ptm4_ZPOT9q7BMmrOHf1dOAvXg=s64",
      "userId": "18392387168599098942"
     },
     "user_tz": 240
    },
    "id": "_dnoLhTaOt-A"
   },
   "outputs": [],
   "source": [
    "#y_fit = modeloLineal(beta[0], beta[1], x_i)\n",
    "#y_fit = modeloPeriodico(beta[0], beta[1], beta[2], beta[3], x_i)\n",
    "y_fit = modeloCuadratico(beta[0], beta[1], beta[2], x_i)"
   ]
  },
  {
   "cell_type": "code",
   "execution_count": 273,
   "metadata": {
    "colab": {
     "base_uri": "https://localhost:8080/",
     "height": 388
    },
    "colab_type": "code",
    "executionInfo": {
     "elapsed": 2237,
     "status": "ok",
     "timestamp": 1595953967012,
     "user": {
      "displayName": "Daniel San Martin",
      "photoUrl": "https://lh3.googleusercontent.com/a-/AOh14Gh2H_R1eke7gfs9ptm4_ZPOT9q7BMmrOHf1dOAvXg=s64",
      "userId": "18392387168599098942"
     },
     "user_tz": 240
    },
    "id": "sDqYoOinOt-B",
    "outputId": "b476e3fa-304d-432d-dfe7-b199d0901ed4"
   },
   "outputs": [
    {
     "data": {
      "image/png": "[encoded data removed]",
      "text/plain": [
       "<Figure size 864x432 with 1 Axes>"
      ]
     },
     "metadata": {
      "needs_background": "light"
     },
     "output_type": "display_data"
    }
   ],
   "source": [
    "plot(x_i, y_i, y_fit)"
   ]
  },
  {
   "cell_type": "markdown",
   "metadata": {},
   "source": [
    "Evaluación de su propuesta"
   ]
  },
  {
   "cell_type": "code",
   "execution_count": 274,
   "metadata": {
    "colab": {},
    "colab_type": "code",
    "executionInfo": {
     "elapsed": 2230,
     "status": "ok",
     "timestamp": 1595953967014,
     "user": {
      "displayName": "Daniel San Martin",
      "photoUrl": "https://lh3.googleusercontent.com/a-/AOh14Gh2H_R1eke7gfs9ptm4_ZPOT9q7BMmrOHf1dOAvXg=s64",
      "userId": "18392387168599098942"
     },
     "user_tz": 240
    },
    "id": "9e42mKXIOt-D"
   },
   "outputs": [],
   "source": [
    "se = SErel(y_i, y_fit)"
   ]
  },
  {
   "cell_type": "code",
   "execution_count": 275,
   "metadata": {
    "colab": {
     "base_uri": "https://localhost:8080/",
     "height": 34
    },
    "colab_type": "code",
    "executionInfo": {
     "elapsed": 2211,
     "status": "ok",
     "timestamp": 1595953967015,
     "user": {
      "displayName": "Daniel San Martin",
      "photoUrl": "https://lh3.googleusercontent.com/a-/AOh14Gh2H_R1eke7gfs9ptm4_ZPOT9q7BMmrOHf1dOAvXg=s64",
      "userId": "18392387168599098942"
     },
     "user_tz": 240
    },
    "id": "bLLuTAp-Ot-F",
    "outputId": "9fba25c0-8757-4342-da12-ac0d2b9fb8fa"
   },
   "outputs": [
    {
     "name": "stdout",
     "output_type": "stream",
     "text": [
      "0.3851645915616594 70.0\n"
     ]
    }
   ],
   "source": [
    "print(se, nota(se))"
   ]
  },
  {
   "cell_type": "code",
   "execution_count": null,
   "metadata": {},
   "outputs": [],
   "source": []
  },
  {
   "cell_type": "code",
   "execution_count": null,
   "metadata": {},
   "outputs": [],
   "source": []
  }
 ],
 "metadata": {
  "colab": {
   "collapsed_sections": [],
   "name": "desafio_5.ipynb",
   "provenance": []
  },
  "kernelspec": {
   "display_name": "Python 3",
   "language": "python",
   "name": "python3"
  },
  "language_info": {
   "codemirror_mode": {
    "name": "ipython",
    "version": 3
   },
   "file_extension": ".py",
   "mimetype": "text/x-python",
   "name": "python",
   "nbconvert_exporter": "python",
   "pygments_lexer": "ipython3",
   "version": "3.8.2"
  }
 },
 "nbformat": 4,
 "nbformat_minor": 1
}
